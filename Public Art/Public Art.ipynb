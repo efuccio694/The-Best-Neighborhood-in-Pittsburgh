{
 "cells": [
  {
   "cell_type": "markdown",
   "metadata": {},
   "source": [
    "# Public Art\n",
    "## Health of the Mind\n",
    "### Authored by Evan Fuccio\n",
    "\n",
    "The second aspect that we use to determine the best neighborhood in Pittsburgh is not the smallest amount of police arrests, the least amount of pollutatants, nor even the least amount of those dreaded potholes who vie to pop your tires. Instead we chose to use our data analysis skills to find the neighborhood with the most public art. This is because we believe public art is critical in creating beautiful neighborhoods, and benefits the mental health of all residents in the area."
   ]
  },
  {
   "cell_type": "markdown",
   "metadata": {},
   "source": [
    "### First we must import the data on public art installations in Pittsburgh"
   ]
  },
  {
   "cell_type": "code",
   "execution_count": 5,
   "metadata": {},
   "outputs": [],
   "source": [
    "import pandas as pd\n",
    "art = pd.read_csv(\"public_art_data.csv\")"
   ]
  },
  {
   "cell_type": "markdown",
   "metadata": {},
   "source": [
    "### Next let us look at the top 5 columns to see what types of data we have for each entry"
   ]
  },
  {
   "cell_type": "code",
   "execution_count": 6,
   "metadata": {},
   "outputs": [
    {
     "data": {
      "text/html": [
       "<div>\n",
       "<style scoped>\n",
       "    .dataframe tbody tr th:only-of-type {\n",
       "        vertical-align: middle;\n",
       "    }\n",
       "\n",
       "    .dataframe tbody tr th {\n",
       "        vertical-align: top;\n",
       "    }\n",
       "\n",
       "    .dataframe thead th {\n",
       "        text-align: right;\n",
       "    }\n",
       "</style>\n",
       "<table border=\"1\" class=\"dataframe\">\n",
       "  <thead>\n",
       "    <tr style=\"text-align: right;\">\n",
       "      <th></th>\n",
       "      <th>id</th>\n",
       "      <th>name</th>\n",
       "      <th>title</th>\n",
       "      <th>artist_name</th>\n",
       "      <th>art_type</th>\n",
       "      <th>park</th>\n",
       "      <th>image</th>\n",
       "      <th>neighborhood</th>\n",
       "      <th>council_district</th>\n",
       "      <th>ward</th>\n",
       "      <th>tract</th>\n",
       "      <th>public_works_division</th>\n",
       "      <th>pli_division</th>\n",
       "      <th>police_zone</th>\n",
       "      <th>fire_zone</th>\n",
       "      <th>latitude</th>\n",
       "      <th>longitude</th>\n",
       "    </tr>\n",
       "  </thead>\n",
       "  <tbody>\n",
       "    <tr>\n",
       "      <th>0</th>\n",
       "      <td>812728309</td>\n",
       "      <td>1001</td>\n",
       "      <td>Oakwood Road Monument</td>\n",
       "      <td>NaN</td>\n",
       "      <td>NaN</td>\n",
       "      <td>NaN</td>\n",
       "      <td>NaN</td>\n",
       "      <td>Oakwood</td>\n",
       "      <td>2.0</td>\n",
       "      <td>28.0</td>\n",
       "      <td>4.200356e+10</td>\n",
       "      <td>5.0</td>\n",
       "      <td>28.0</td>\n",
       "      <td>6.0</td>\n",
       "      <td>1-19</td>\n",
       "      <td>40.429192</td>\n",
       "      <td>-80.066225</td>\n",
       "    </tr>\n",
       "    <tr>\n",
       "      <th>1</th>\n",
       "      <td>188255168</td>\n",
       "      <td>1002</td>\n",
       "      <td>Rooster Waiting For The Streetcar</td>\n",
       "      <td>James Simon</td>\n",
       "      <td>Modern and Contemporary Art</td>\n",
       "      <td>NaN</td>\n",
       "      <td>NaN</td>\n",
       "      <td>Elliott</td>\n",
       "      <td>2.0</td>\n",
       "      <td>20.0</td>\n",
       "      <td>4.200356e+10</td>\n",
       "      <td>5.0</td>\n",
       "      <td>20.0</td>\n",
       "      <td>6.0</td>\n",
       "      <td>1-17</td>\n",
       "      <td>40.442926</td>\n",
       "      <td>-80.039711</td>\n",
       "    </tr>\n",
       "    <tr>\n",
       "      <th>2</th>\n",
       "      <td>2032091917</td>\n",
       "      <td>129</td>\n",
       "      <td>Middle East Memorial Plaque</td>\n",
       "      <td>NaN</td>\n",
       "      <td>War Memorials</td>\n",
       "      <td>NaN</td>\n",
       "      <td>NaN</td>\n",
       "      <td>Central Business District</td>\n",
       "      <td>6.0</td>\n",
       "      <td>1.0</td>\n",
       "      <td>4.200302e+10</td>\n",
       "      <td>6.0</td>\n",
       "      <td>1.0</td>\n",
       "      <td>2.0</td>\n",
       "      <td>1-4</td>\n",
       "      <td>40.438092</td>\n",
       "      <td>-79.996852</td>\n",
       "    </tr>\n",
       "    <tr>\n",
       "      <th>3</th>\n",
       "      <td>1447629273</td>\n",
       "      <td>143</td>\n",
       "      <td>L'Enfant</td>\n",
       "      <td>Paul Roger-Bloche</td>\n",
       "      <td>Historic Art</td>\n",
       "      <td>NaN</td>\n",
       "      <td>NaN</td>\n",
       "      <td>Carrick</td>\n",
       "      <td>4.0</td>\n",
       "      <td>29.0</td>\n",
       "      <td>4.200329e+10</td>\n",
       "      <td>3.0</td>\n",
       "      <td>29.0</td>\n",
       "      <td>3.0</td>\n",
       "      <td>4-23</td>\n",
       "      <td>40.388748</td>\n",
       "      <td>-79.986497</td>\n",
       "    </tr>\n",
       "    <tr>\n",
       "      <th>4</th>\n",
       "      <td>1935017944</td>\n",
       "      <td>148</td>\n",
       "      <td>Veterans Memorial (Brookline)</td>\n",
       "      <td>NaN</td>\n",
       "      <td>War Memorials</td>\n",
       "      <td>Brookline Monument</td>\n",
       "      <td>NaN</td>\n",
       "      <td>Brookline</td>\n",
       "      <td>4.0</td>\n",
       "      <td>19.0</td>\n",
       "      <td>4.200319e+10</td>\n",
       "      <td>5.0</td>\n",
       "      <td>19.0</td>\n",
       "      <td>6.0</td>\n",
       "      <td>4-26</td>\n",
       "      <td>40.391721</td>\n",
       "      <td>-80.016981</td>\n",
       "    </tr>\n",
       "  </tbody>\n",
       "</table>\n",
       "</div>"
      ],
      "text/plain": [
       "           id  name                              title        artist_name  \\\n",
       "0   812728309  1001              Oakwood Road Monument                NaN   \n",
       "1   188255168  1002  Rooster Waiting For The Streetcar        James Simon   \n",
       "2  2032091917   129        Middle East Memorial Plaque                NaN   \n",
       "3  1447629273   143                           L'Enfant  Paul Roger-Bloche   \n",
       "4  1935017944   148      Veterans Memorial (Brookline)                NaN   \n",
       "\n",
       "                      art_type                park image  \\\n",
       "0                          NaN                 NaN   NaN   \n",
       "1  Modern and Contemporary Art                 NaN   NaN   \n",
       "2                War Memorials                 NaN   NaN   \n",
       "3                 Historic Art                 NaN   NaN   \n",
       "4                War Memorials  Brookline Monument   NaN   \n",
       "\n",
       "                neighborhood  council_district  ward         tract  \\\n",
       "0                    Oakwood               2.0  28.0  4.200356e+10   \n",
       "1                    Elliott               2.0  20.0  4.200356e+10   \n",
       "2  Central Business District               6.0   1.0  4.200302e+10   \n",
       "3                    Carrick               4.0  29.0  4.200329e+10   \n",
       "4                  Brookline               4.0  19.0  4.200319e+10   \n",
       "\n",
       "   public_works_division  pli_division  police_zone fire_zone   latitude  \\\n",
       "0                    5.0          28.0          6.0      1-19  40.429192   \n",
       "1                    5.0          20.0          6.0      1-17  40.442926   \n",
       "2                    6.0           1.0          2.0       1-4  40.438092   \n",
       "3                    3.0          29.0          3.0      4-23  40.388748   \n",
       "4                    5.0          19.0          6.0      4-26  40.391721   \n",
       "\n",
       "   longitude  \n",
       "0 -80.066225  \n",
       "1 -80.039711  \n",
       "2 -79.996852  \n",
       "3 -79.986497  \n",
       "4 -80.016981  "
      ]
     },
     "execution_count": 6,
     "metadata": {},
     "output_type": "execute_result"
    }
   ],
   "source": [
    "art.head(5)"
   ]
  },
  {
   "cell_type": "markdown",
   "metadata": {},
   "source": [
    "For our analysis we are going to look at the neighborhood in which each art installation is located, and the genre of art piece in order to determine our final decision about the best neighborhood in Pittburgh"
   ]
  },
  {
   "cell_type": "markdown",
   "metadata": {},
   "source": [
    "### Let us first look at the neighborhoods to determine which neighborhood in Pittsburgh has the most art installations."
   ]
  },
  {
   "cell_type": "code",
   "execution_count": 7,
   "metadata": {},
   "outputs": [
    {
     "data": {
      "text/plain": [
       "array(['Oakwood', 'Elliott', 'Central Business District', 'Carrick',\n",
       "       'Brookline', 'South Side Slopes', nan, 'Hazelwood',\n",
       "       'Highland Park', 'Squirrel Hill South', 'Perry North',\n",
       "       'Beltzhoover', 'Spring Hill-City View', 'West End', 'Greenfield',\n",
       "       'Shadyside', 'East Allegheny', 'Squirrel Hill North', 'Beechview',\n",
       "       'Crawford-Roberts', 'Lincoln-Lemington-Belmar', 'Hays',\n",
       "       'Allegheny Center', 'North Oakland', 'South Side Flats',\n",
       "       'Central Oakland', 'Point Breeze', 'Allegheny West',\n",
       "       'Strip District', 'Mount Washington', 'Brighton Heights',\n",
       "       'Perry South', 'North Shore', 'Upper Hill', 'Garfield',\n",
       "       'Central Lawrenceville', 'Upper Lawrenceville', 'Stanton Heights',\n",
       "       'Duquesne Heights', 'Allentown', 'East Liberty', 'Bloomfield',\n",
       "       'East Carnegie', 'East Hills', 'Lower Lawrenceville', 'Overbrook',\n",
       "       'Polish Hill', 'Regent Square', 'Sheraden', 'Spring Garden',\n",
       "       'Swisshelm Park', 'Troy Hill', 'Crafton Heights', 'Esplen',\n",
       "       'Knoxville', 'Manchester'], dtype=object)"
      ]
     },
     "execution_count": 7,
     "metadata": {},
     "output_type": "execute_result"
    }
   ],
   "source": [
    "#First let's look at the neighborhoods represented in the data\n",
    "\n",
    "art['neighborhood'].unique()"
   ]
  },
  {
   "cell_type": "code",
   "execution_count": 9,
   "metadata": {},
   "outputs": [
    {
     "name": "stdout",
     "output_type": "stream",
     "text": [
      "Neighborhood          Art Count\n"
     ]
    },
    {
     "data": {
      "text/plain": [
       "Central Business District    27\n",
       "Squirrel Hill South          20\n",
       "Allegheny Center             18\n",
       "Highland Park                10\n",
       "South Side Flats              9\n",
       "North Shore                   8\n",
       "Beechview                     7\n",
       "Shadyside                     6\n",
       "Central Oakland               5\n",
       "Lower Lawrenceville           5\n",
       "Brighton Heights              5\n",
       "Spring Hill-City View         4\n",
       "Crawford-Roberts              3\n",
       "South Side Slopes             3\n",
       "Duquesne Heights              3\n",
       "Elliott                       3\n",
       "Greenfield                    3\n",
       "Beltzhoover                   3\n",
       "Point Breeze                  3\n",
       "Hazelwood                     3\n",
       "Allentown                     2\n",
       "Perry North                   2\n",
       "Garfield                      2\n",
       "West End                      2\n",
       "Strip District                2\n",
       "Carrick                       2\n",
       "East Allegheny                2\n",
       "Mount Washington              2\n",
       "Lincoln-Lemington-Belmar      2\n",
       "Spring Garden                 2\n",
       "Central Lawrenceville         2\n",
       "Squirrel Hill North           2\n",
       "Upper Hill                    2\n",
       "Brookline                     2\n",
       "Hays                          1\n",
       "Esplen                        1\n",
       "Upper Lawrenceville           1\n",
       "Oakwood                       1\n",
       "Perry South                   1\n",
       "Regent Square                 1\n",
       "Troy Hill                     1\n",
       "Crafton Heights               1\n",
       "Sheraden                      1\n",
       "Stanton Heights               1\n",
       "East Hills                    1\n",
       "Manchester                    1\n",
       "Polish Hill                   1\n",
       "Overbrook                     1\n",
       "Knoxville                     1\n",
       "North Oakland                 1\n",
       "Swisshelm Park                1\n",
       "East Carnegie                 1\n",
       "Bloomfield                    1\n",
       "Allegheny West                1\n",
       "East Liberty                  1\n",
       "Name: neighborhood, dtype: int64"
      ]
     },
     "execution_count": 9,
     "metadata": {},
     "output_type": "execute_result"
    }
   ],
   "source": [
    "#Now let us look at the amount of art located in each Neighborhood\n",
    "print(\"Neighborhood          Art Count\")\n",
    "art['neighborhood'].value_counts()"
   ]
  },
  {
   "cell_type": "markdown",
   "metadata": {},
   "source": [
    "### As we can see from the list, the Central Business District has the most public art installations of any neighborhood"
   ]
  },
  {
   "cell_type": "code",
   "execution_count": 33,
   "metadata": {},
   "outputs": [
    {
     "data": {
      "text/plain": [
       "<matplotlib.axes._subplots.AxesSubplot at 0x7f789385dc40>"
      ]
     },
     "execution_count": 33,
     "metadata": {},
     "output_type": "execute_result"
    },
    {
     "data": {
      "image/png": "[encoded data removed]",
      "text/plain": [
       "<Figure size 432x288 with 1 Axes>"
      ]
     },
     "metadata": {
      "needs_background": "light"
     },
     "output_type": "display_data"
    }
   ],
   "source": [
    "# Let's view those statistics again but with a bar graph\n",
    "\n",
    "number_of_art = art['neighborhood'].value_counts()\n",
    "number_of_art.plot.bar(width=0.5)"
   ]
  },
  {
   "cell_type": "code",
   "execution_count": null,
   "metadata": {},
   "outputs": [],
   "source": []
  }
 ],
 "metadata": {
  "kernelspec": {
   "display_name": "Python 3",
   "language": "python",
   "name": "python3"
  },
  "language_info": {
   "codemirror_mode": {
    "name": "ipython",
    "version": 3
   },
   "file_extension": ".py",
   "mimetype": "text/x-python",
   "name": "python",
   "nbconvert_exporter": "python",
   "pygments_lexer": "ipython3",
   "version": "3.8.3"
  }
 },
 "nbformat": 4,
 "nbformat_minor": 4
}
