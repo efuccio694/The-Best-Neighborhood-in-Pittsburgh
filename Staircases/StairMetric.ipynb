{
 "cells": [
  {
   "cell_type": "markdown",
   "metadata": {},
   "source": [
    "# **The Endurance of Pittsburgh Neighborhoods**"
   ]
  },
  {
   "cell_type": "markdown",
   "metadata": {},
   "source": [
    "### Authored By: Madeleine Lasky"
   ]
  },
  {
   "cell_type": "markdown",
   "metadata": {},
   "source": [
    "***\n"
   ]
  },
  {
   "cell_type": "markdown",
   "metadata": {},
   "source": [
    "## **Introduction:** Steel City Stairway to Heaven"
   ]
  },
  {
   "cell_type": "markdown",
   "metadata": {},
   "source": [
    "![home bound](https://media.giphy.com/media/CjsLDJASzCwHQIo8jC/giphy.gif)"
   ]
  },
  {
   "cell_type": "markdown",
   "metadata": {},
   "source": [
    "#### <span style=\"font-size:19px;font-family:Impact\">\"  It is often said that the true reflection of a city is it's stairs \" - A Pittsburgher</span>"
   ]
  },
  {
   "cell_type": "markdown",
   "metadata": {},
   "source": [
    "## How can we _truly_ analyze a Pittsburgh neighborhood and rank it best without taking into account the most important metric of all? \n"
   ]
  },
  {
   "cell_type": "markdown",
   "metadata": {},
   "source": [
    "# <code style=\"font-size:100px;font-family:Impact;background:black;color:gold\"> ENDURANCE </code>\n"
   ]
  },
  {
   "cell_type": "markdown",
   "metadata": {},
   "source": [
    "![home bound](https://media.giphy.com/media/l0HlNe1adCP8qY7Ti/giphy.gif)\n",
    "-"
   ]
  },
  {
   "cell_type": "markdown",
   "metadata": {},
   "source": [
    "### **Endurance** is incredibly important to the health of any citizen. We are the city of steel, and as a result, our best neighborhood should be a reflection of that. Known for it's crown jewel of stairs, Pittsburgh is nothing short of a trek. Who should represent us best, but our citizens whose steel thighs stand as testament to our beauty. \n",
    "- I decided to choose this dataset as I wanted to analyze data which reflects a characteristic inherent to the city. I perused multiple different datasets from traffic citations to crime records. Initially, I thought that my metric for best neighborhood should fit within normal standards. However, this thought process did not satisfy the manner with which I view Pittsburgh. Having been born and raised in this city, I want my analysis to investigate it's defining feature of endurance. After all, it is called the Steel City! "
   ]
  },
  {
   "cell_type": "markdown",
   "metadata": {},
   "source": [
    "# <code style=\"font-size:50px;font-family:Impact;background:black;color:gold\">By the end of this notebook, you will  truly have walked a mile in the shoes of these Pittsburghers. </code>"
   ]
  },
  {
   "cell_type": "markdown",
   "metadata": {},
   "source": [
    "***"
   ]
  },
  {
   "cell_type": "markdown",
   "metadata": {},
   "source": [
    "## **Metric:** Let's Set the Atmosphere, Shall we? "
   ]
  },
  {
   "cell_type": "markdown",
   "metadata": {},
   "source": [
    "**1.** I shall determine the neighborhoods with the highest concentration of stairs. This shall be calculated by using the City of Pittsburgh Steps dataset from the WPRDC. "
   ]
  },
  {
   "cell_type": "markdown",
   "metadata": {},
   "source": [
    "**2.** I shall determine the neighborhoods with the highest number of steps and step length."
   ]
  },
  {
   "cell_type": "markdown",
   "metadata": {},
   "source": [
    "**3.** I will then use these submetrics as an indication of the general endurance of the populations of Pittsburgh neighborhoods."
   ]
  },
  {
   "cell_type": "markdown",
   "metadata": {},
   "source": [
    "***"
   ]
  },
  {
   "cell_type": "markdown",
   "metadata": {},
   "source": [
    "## **The Best Neighborhood:** Data and Analysis"
   ]
  },
  {
   "cell_type": "code",
   "execution_count": 2,
   "metadata": {},
   "outputs": [],
   "source": [
    "import pandas as pd"
   ]
  },
  {
   "cell_type": "markdown",
   "metadata": {},
   "source": [
    "### **Our data initially appears as follows ...**"
   ]
  },
  {
   "cell_type": "code",
   "execution_count": 3,
   "metadata": {},
   "outputs": [
    {
     "data": {
      "text/html": [
       "<div>\n",
       "<style scoped>\n",
       "    .dataframe tbody tr th:only-of-type {\n",
       "        vertical-align: middle;\n",
       "    }\n",
       "\n",
       "    .dataframe tbody tr th {\n",
       "        vertical-align: top;\n",
       "    }\n",
       "\n",
       "    .dataframe thead th {\n",
       "        text-align: right;\n",
       "    }\n",
       "</style>\n",
       "<table border=\"1\" class=\"dataframe\">\n",
       "  <thead>\n",
       "    <tr style=\"text-align: right;\">\n",
       "      <th></th>\n",
       "      <th>id</th>\n",
       "      <th>name</th>\n",
       "      <th>maintenance_responsibility</th>\n",
       "      <th>installed</th>\n",
       "      <th>material</th>\n",
       "      <th>length</th>\n",
       "      <th>number_of_steps</th>\n",
       "      <th>schools_count</th>\n",
       "      <th>school_score</th>\n",
       "      <th>total_population</th>\n",
       "      <th>...</th>\n",
       "      <th>neighborhood</th>\n",
       "      <th>council_district</th>\n",
       "      <th>ward</th>\n",
       "      <th>tract</th>\n",
       "      <th>public_works_division</th>\n",
       "      <th>pli_division</th>\n",
       "      <th>police_zone</th>\n",
       "      <th>fire_zone</th>\n",
       "      <th>latitude</th>\n",
       "      <th>longitude</th>\n",
       "    </tr>\n",
       "  </thead>\n",
       "  <tbody>\n",
       "    <tr>\n",
       "      <th>0</th>\n",
       "      <td>326501686</td>\n",
       "      <td>10 Wakefield St</td>\n",
       "      <td>3rd Division</td>\n",
       "      <td>NaN</td>\n",
       "      <td>Concrete</td>\n",
       "      <td>53.0</td>\n",
       "      <td>8.0</td>\n",
       "      <td>0.0</td>\n",
       "      <td>100.0</td>\n",
       "      <td>367.0</td>\n",
       "      <td>...</td>\n",
       "      <td>South Oakland</td>\n",
       "      <td>3.0</td>\n",
       "      <td>4.0</td>\n",
       "      <td>42003040900</td>\n",
       "      <td>3.0</td>\n",
       "      <td>4.0</td>\n",
       "      <td>4.0</td>\n",
       "      <td>2-11</td>\n",
       "      <td>40.430934</td>\n",
       "      <td>-79.957093</td>\n",
       "    </tr>\n",
       "    <tr>\n",
       "      <th>1</th>\n",
       "      <td>527853474</td>\n",
       "      <td>1005 St Martin St</td>\n",
       "      <td>4th Division</td>\n",
       "      <td>NaN</td>\n",
       "      <td>Concrete</td>\n",
       "      <td>33.0</td>\n",
       "      <td>24.0</td>\n",
       "      <td>NaN</td>\n",
       "      <td>NaN</td>\n",
       "      <td>NaN</td>\n",
       "      <td>...</td>\n",
       "      <td>South Side Slopes</td>\n",
       "      <td>3.0</td>\n",
       "      <td>17.0</td>\n",
       "      <td>42003170600</td>\n",
       "      <td>3.0</td>\n",
       "      <td>17.0</td>\n",
       "      <td>3.0</td>\n",
       "      <td>4-6</td>\n",
       "      <td>40.422418</td>\n",
       "      <td>-79.988218</td>\n",
       "    </tr>\n",
       "    <tr>\n",
       "      <th>2</th>\n",
       "      <td>1074700399</td>\n",
       "      <td>1017 St Martin St</td>\n",
       "      <td>4th Division</td>\n",
       "      <td>NaN</td>\n",
       "      <td>Concrete</td>\n",
       "      <td>52.0</td>\n",
       "      <td>4.0</td>\n",
       "      <td>NaN</td>\n",
       "      <td>NaN</td>\n",
       "      <td>NaN</td>\n",
       "      <td>...</td>\n",
       "      <td>South Side Slopes</td>\n",
       "      <td>3.0</td>\n",
       "      <td>17.0</td>\n",
       "      <td>42003170600</td>\n",
       "      <td>3.0</td>\n",
       "      <td>17.0</td>\n",
       "      <td>3.0</td>\n",
       "      <td>4-6</td>\n",
       "      <td>40.422479</td>\n",
       "      <td>-79.987608</td>\n",
       "    </tr>\n",
       "    <tr>\n",
       "      <th>3</th>\n",
       "      <td>50987987</td>\n",
       "      <td>30th St from Bigelow Blvd to Leander St</td>\n",
       "      <td>3rd Division</td>\n",
       "      <td>1948-01-01</td>\n",
       "      <td>Concrete</td>\n",
       "      <td>106.0</td>\n",
       "      <td>106.0</td>\n",
       "      <td>0.0</td>\n",
       "      <td>100.0</td>\n",
       "      <td>235.0</td>\n",
       "      <td>...</td>\n",
       "      <td>Bedford Dwellings</td>\n",
       "      <td>7.0</td>\n",
       "      <td>6.0</td>\n",
       "      <td>42003060500</td>\n",
       "      <td>3.0</td>\n",
       "      <td>6.0</td>\n",
       "      <td>2.0</td>\n",
       "      <td>2-24</td>\n",
       "      <td>40.454801</td>\n",
       "      <td>-79.968473</td>\n",
       "    </tr>\n",
       "    <tr>\n",
       "      <th>4</th>\n",
       "      <td>173445306</td>\n",
       "      <td>30th St from Paulowna to Bigelow Blvd</td>\n",
       "      <td>3rd Division</td>\n",
       "      <td>1948-01-01</td>\n",
       "      <td>Concrete</td>\n",
       "      <td>204.0</td>\n",
       "      <td>85.0</td>\n",
       "      <td>1.0</td>\n",
       "      <td>4.0</td>\n",
       "      <td>422.0</td>\n",
       "      <td>...</td>\n",
       "      <td>Polish Hill</td>\n",
       "      <td>7.0</td>\n",
       "      <td>6.0</td>\n",
       "      <td>42003060500</td>\n",
       "      <td>6.0</td>\n",
       "      <td>6.0</td>\n",
       "      <td>2.0</td>\n",
       "      <td>2-6</td>\n",
       "      <td>40.455481</td>\n",
       "      <td>-79.968756</td>\n",
       "    </tr>\n",
       "    <tr>\n",
       "      <th>5</th>\n",
       "      <td>1770071723</td>\n",
       "      <td>53rd St from Holmes St to Lotus Way West</td>\n",
       "      <td>2nd Division</td>\n",
       "      <td>1949-01-01</td>\n",
       "      <td>Concrete</td>\n",
       "      <td>105.0</td>\n",
       "      <td>44.0</td>\n",
       "      <td>1.0</td>\n",
       "      <td>8.0</td>\n",
       "      <td>1751.0</td>\n",
       "      <td>...</td>\n",
       "      <td>Upper Lawrenceville</td>\n",
       "      <td>7.0</td>\n",
       "      <td>10.0</td>\n",
       "      <td>42003101100</td>\n",
       "      <td>2.0</td>\n",
       "      <td>10.0</td>\n",
       "      <td>2.0</td>\n",
       "      <td>3-5</td>\n",
       "      <td>40.480350</td>\n",
       "      <td>-79.950137</td>\n",
       "    </tr>\n",
       "    <tr>\n",
       "      <th>6</th>\n",
       "      <td>1298252202</td>\n",
       "      <td>53rd St from Lotus Way to Duncan St</td>\n",
       "      <td>2nd Division</td>\n",
       "      <td>1949-01-01</td>\n",
       "      <td>Concrete</td>\n",
       "      <td>106.0</td>\n",
       "      <td>17.0</td>\n",
       "      <td>NaN</td>\n",
       "      <td>NaN</td>\n",
       "      <td>NaN</td>\n",
       "      <td>...</td>\n",
       "      <td>Upper Lawrenceville</td>\n",
       "      <td>7.0</td>\n",
       "      <td>10.0</td>\n",
       "      <td>42003101100</td>\n",
       "      <td>2.0</td>\n",
       "      <td>10.0</td>\n",
       "      <td>2.0</td>\n",
       "      <td>3-5</td>\n",
       "      <td>40.480112</td>\n",
       "      <td>-79.949808</td>\n",
       "    </tr>\n",
       "    <tr>\n",
       "      <th>7</th>\n",
       "      <td>1726357152</td>\n",
       "      <td>54th St from Wickliff to Camelia St</td>\n",
       "      <td>2nd Division</td>\n",
       "      <td>NaN</td>\n",
       "      <td>Concrete</td>\n",
       "      <td>424.0</td>\n",
       "      <td>188.0</td>\n",
       "      <td>1.0</td>\n",
       "      <td>10.0</td>\n",
       "      <td>1227.0</td>\n",
       "      <td>...</td>\n",
       "      <td>Upper Lawrenceville</td>\n",
       "      <td>7.0</td>\n",
       "      <td>10.0</td>\n",
       "      <td>42003101800</td>\n",
       "      <td>2.0</td>\n",
       "      <td>10.0</td>\n",
       "      <td>2.0</td>\n",
       "      <td>3-5</td>\n",
       "      <td>40.479923</td>\n",
       "      <td>-79.947304</td>\n",
       "    </tr>\n",
       "    <tr>\n",
       "      <th>8</th>\n",
       "      <td>652746099</td>\n",
       "      <td>56th St from Carnegie St to Duncan St</td>\n",
       "      <td>2nd Division</td>\n",
       "      <td>1946-01-01</td>\n",
       "      <td>Concrete</td>\n",
       "      <td>468.0</td>\n",
       "      <td>249.0</td>\n",
       "      <td>0.0</td>\n",
       "      <td>100.0</td>\n",
       "      <td>507.0</td>\n",
       "      <td>...</td>\n",
       "      <td>Upper Lawrenceville</td>\n",
       "      <td>7.0</td>\n",
       "      <td>10.0</td>\n",
       "      <td>42003101100</td>\n",
       "      <td>2.0</td>\n",
       "      <td>10.0</td>\n",
       "      <td>2.0</td>\n",
       "      <td>3-5</td>\n",
       "      <td>40.483363</td>\n",
       "      <td>-79.946767</td>\n",
       "    </tr>\n",
       "    <tr>\n",
       "      <th>9</th>\n",
       "      <td>1945192976</td>\n",
       "      <td>56th St from Celadine St to Alford Way</td>\n",
       "      <td>2nd Division</td>\n",
       "      <td>NaN</td>\n",
       "      <td>Wood</td>\n",
       "      <td>36.0</td>\n",
       "      <td>8.0</td>\n",
       "      <td>0.0</td>\n",
       "      <td>100.0</td>\n",
       "      <td>422.0</td>\n",
       "      <td>...</td>\n",
       "      <td>Stanton Heights</td>\n",
       "      <td>7.0</td>\n",
       "      <td>10.0</td>\n",
       "      <td>42003101800</td>\n",
       "      <td>2.0</td>\n",
       "      <td>10.0</td>\n",
       "      <td>5.0</td>\n",
       "      <td>3-5</td>\n",
       "      <td>40.482184</td>\n",
       "      <td>-79.944277</td>\n",
       "    </tr>\n",
       "  </tbody>\n",
       "</table>\n",
       "<p>10 rows × 25 columns</p>\n",
       "</div>"
      ],
      "text/plain": [
       "           id                                      name  \\\n",
       "0   326501686                           10 Wakefield St   \n",
       "1   527853474                         1005 St Martin St   \n",
       "2  1074700399                         1017 St Martin St   \n",
       "3    50987987   30th St from Bigelow Blvd to Leander St   \n",
       "4   173445306     30th St from Paulowna to Bigelow Blvd   \n",
       "5  1770071723  53rd St from Holmes St to Lotus Way West   \n",
       "6  1298252202       53rd St from Lotus Way to Duncan St   \n",
       "7  1726357152       54th St from Wickliff to Camelia St   \n",
       "8   652746099     56th St from Carnegie St to Duncan St   \n",
       "9  1945192976    56th St from Celadine St to Alford Way   \n",
       "\n",
       "  maintenance_responsibility   installed  material  length  number_of_steps  \\\n",
       "0               3rd Division         NaN  Concrete    53.0              8.0   \n",
       "1               4th Division         NaN  Concrete    33.0             24.0   \n",
       "2               4th Division         NaN  Concrete    52.0              4.0   \n",
       "3               3rd Division  1948-01-01  Concrete   106.0            106.0   \n",
       "4               3rd Division  1948-01-01  Concrete   204.0             85.0   \n",
       "5               2nd Division  1949-01-01  Concrete   105.0             44.0   \n",
       "6               2nd Division  1949-01-01  Concrete   106.0             17.0   \n",
       "7               2nd Division         NaN  Concrete   424.0            188.0   \n",
       "8               2nd Division  1946-01-01  Concrete   468.0            249.0   \n",
       "9               2nd Division         NaN      Wood    36.0              8.0   \n",
       "\n",
       "   schools_count  school_score  total_population  ...         neighborhood  \\\n",
       "0            0.0         100.0             367.0  ...        South Oakland   \n",
       "1            NaN           NaN               NaN  ...    South Side Slopes   \n",
       "2            NaN           NaN               NaN  ...    South Side Slopes   \n",
       "3            0.0         100.0             235.0  ...    Bedford Dwellings   \n",
       "4            1.0           4.0             422.0  ...          Polish Hill   \n",
       "5            1.0           8.0            1751.0  ...  Upper Lawrenceville   \n",
       "6            NaN           NaN               NaN  ...  Upper Lawrenceville   \n",
       "7            1.0          10.0            1227.0  ...  Upper Lawrenceville   \n",
       "8            0.0         100.0             507.0  ...  Upper Lawrenceville   \n",
       "9            0.0         100.0             422.0  ...      Stanton Heights   \n",
       "\n",
       "   council_district  ward        tract public_works_division pli_division  \\\n",
       "0               3.0   4.0  42003040900                   3.0          4.0   \n",
       "1               3.0  17.0  42003170600                   3.0         17.0   \n",
       "2               3.0  17.0  42003170600                   3.0         17.0   \n",
       "3               7.0   6.0  42003060500                   3.0          6.0   \n",
       "4               7.0   6.0  42003060500                   6.0          6.0   \n",
       "5               7.0  10.0  42003101100                   2.0         10.0   \n",
       "6               7.0  10.0  42003101100                   2.0         10.0   \n",
       "7               7.0  10.0  42003101800                   2.0         10.0   \n",
       "8               7.0  10.0  42003101100                   2.0         10.0   \n",
       "9               7.0  10.0  42003101800                   2.0         10.0   \n",
       "\n",
       "   police_zone  fire_zone   latitude  longitude  \n",
       "0          4.0       2-11  40.430934 -79.957093  \n",
       "1          3.0        4-6  40.422418 -79.988218  \n",
       "2          3.0        4-6  40.422479 -79.987608  \n",
       "3          2.0       2-24  40.454801 -79.968473  \n",
       "4          2.0        2-6  40.455481 -79.968756  \n",
       "5          2.0        3-5  40.480350 -79.950137  \n",
       "6          2.0        3-5  40.480112 -79.949808  \n",
       "7          2.0        3-5  40.479923 -79.947304  \n",
       "8          2.0        3-5  40.483363 -79.946767  \n",
       "9          5.0        3-5  40.482184 -79.944277  \n",
       "\n",
       "[10 rows x 25 columns]"
      ]
     },
     "execution_count": 3,
     "metadata": {},
     "output_type": "execute_result"
    }
   ],
   "source": [
    "staircases = pd.read_csv(\"CityOfPittsburghSteps.csv\")\n",
    "staircases.head(10)"
   ]
  },
  {
   "cell_type": "markdown",
   "metadata": {},
   "source": [
    "### **Clean Data First ...**"
   ]
  },
  {
   "cell_type": "markdown",
   "metadata": {},
   "source": [
    "**1.** Redefine our dataframe to only include necessary columns"
   ]
  },
  {
   "cell_type": "markdown",
   "metadata": {},
   "source": [
    "**2.** Drop rows with missing data using dropna( ) function"
   ]
  },
  {
   "cell_type": "code",
   "execution_count": 4,
   "metadata": {},
   "outputs": [
    {
     "data": {
      "text/html": [
       "<div>\n",
       "<style scoped>\n",
       "    .dataframe tbody tr th:only-of-type {\n",
       "        vertical-align: middle;\n",
       "    }\n",
       "\n",
       "    .dataframe tbody tr th {\n",
       "        vertical-align: top;\n",
       "    }\n",
       "\n",
       "    .dataframe thead th {\n",
       "        text-align: right;\n",
       "    }\n",
       "</style>\n",
       "<table border=\"1\" class=\"dataframe\">\n",
       "  <thead>\n",
       "    <tr style=\"text-align: right;\">\n",
       "      <th></th>\n",
       "      <th>neighborhood</th>\n",
       "      <th>length</th>\n",
       "      <th>number_of_steps</th>\n",
       "    </tr>\n",
       "  </thead>\n",
       "  <tbody>\n",
       "    <tr>\n",
       "      <th>0</th>\n",
       "      <td>South Oakland</td>\n",
       "      <td>53.0</td>\n",
       "      <td>8.0</td>\n",
       "    </tr>\n",
       "    <tr>\n",
       "      <th>1</th>\n",
       "      <td>South Side Slopes</td>\n",
       "      <td>33.0</td>\n",
       "      <td>24.0</td>\n",
       "    </tr>\n",
       "    <tr>\n",
       "      <th>2</th>\n",
       "      <td>South Side Slopes</td>\n",
       "      <td>52.0</td>\n",
       "      <td>4.0</td>\n",
       "    </tr>\n",
       "    <tr>\n",
       "      <th>3</th>\n",
       "      <td>Bedford Dwellings</td>\n",
       "      <td>106.0</td>\n",
       "      <td>106.0</td>\n",
       "    </tr>\n",
       "    <tr>\n",
       "      <th>4</th>\n",
       "      <td>Polish Hill</td>\n",
       "      <td>204.0</td>\n",
       "      <td>85.0</td>\n",
       "    </tr>\n",
       "    <tr>\n",
       "      <th>5</th>\n",
       "      <td>Upper Lawrenceville</td>\n",
       "      <td>105.0</td>\n",
       "      <td>44.0</td>\n",
       "    </tr>\n",
       "    <tr>\n",
       "      <th>6</th>\n",
       "      <td>Upper Lawrenceville</td>\n",
       "      <td>106.0</td>\n",
       "      <td>17.0</td>\n",
       "    </tr>\n",
       "    <tr>\n",
       "      <th>7</th>\n",
       "      <td>Upper Lawrenceville</td>\n",
       "      <td>424.0</td>\n",
       "      <td>188.0</td>\n",
       "    </tr>\n",
       "    <tr>\n",
       "      <th>8</th>\n",
       "      <td>Upper Lawrenceville</td>\n",
       "      <td>468.0</td>\n",
       "      <td>249.0</td>\n",
       "    </tr>\n",
       "    <tr>\n",
       "      <th>9</th>\n",
       "      <td>Stanton Heights</td>\n",
       "      <td>36.0</td>\n",
       "      <td>8.0</td>\n",
       "    </tr>\n",
       "  </tbody>\n",
       "</table>\n",
       "</div>"
      ],
      "text/plain": [
       "          neighborhood  length  number_of_steps\n",
       "0        South Oakland    53.0              8.0\n",
       "1    South Side Slopes    33.0             24.0\n",
       "2    South Side Slopes    52.0              4.0\n",
       "3    Bedford Dwellings   106.0            106.0\n",
       "4          Polish Hill   204.0             85.0\n",
       "5  Upper Lawrenceville   105.0             44.0\n",
       "6  Upper Lawrenceville   106.0             17.0\n",
       "7  Upper Lawrenceville   424.0            188.0\n",
       "8  Upper Lawrenceville   468.0            249.0\n",
       "9      Stanton Heights    36.0              8.0"
      ]
     },
     "execution_count": 4,
     "metadata": {},
     "output_type": "execute_result"
    }
   ],
   "source": [
    "necessary = staircases[['neighborhood', 'length' , 'number_of_steps']]\n",
    "cleaned_data = necessary.dropna()\n",
    "cleaned_data.head(10)"
   ]
  },
  {
   "cell_type": "markdown",
   "metadata": {},
   "source": [
    "### **Display our summarized data ...**"
   ]
  },
  {
   "cell_type": "markdown",
   "metadata": {},
   "source": [
    "**1.** Implement the groupby( ) function to group our neighborhoods"
   ]
  },
  {
   "cell_type": "markdown",
   "metadata": {},
   "source": [
    "**2.** Implement the sum( ) function to find the sum for each group "
   ]
  },
  {
   "cell_type": "markdown",
   "metadata": {},
   "source": [
    "**3.** Implement the nlargest( ) function to find the top 20 nbhds for our number_of_steps submetric "
   ]
  },
  {
   "cell_type": "code",
   "execution_count": 13,
   "metadata": {},
   "outputs": [
    {
     "data": {
      "text/html": [
       "<div>\n",
       "<style scoped>\n",
       "    .dataframe tbody tr th:only-of-type {\n",
       "        vertical-align: middle;\n",
       "    }\n",
       "\n",
       "    .dataframe tbody tr th {\n",
       "        vertical-align: top;\n",
       "    }\n",
       "\n",
       "    .dataframe thead th {\n",
       "        text-align: right;\n",
       "    }\n",
       "</style>\n",
       "<table border=\"1\" class=\"dataframe\">\n",
       "  <thead>\n",
       "    <tr style=\"text-align: right;\">\n",
       "      <th></th>\n",
       "      <th>length</th>\n",
       "      <th>number_of_steps</th>\n",
       "    </tr>\n",
       "    <tr>\n",
       "      <th>neighborhood</th>\n",
       "      <th></th>\n",
       "      <th></th>\n",
       "    </tr>\n",
       "  </thead>\n",
       "  <tbody>\n",
       "    <tr>\n",
       "      <th>South Side Slopes</th>\n",
       "      <td>12632.0</td>\n",
       "      <td>4081.0</td>\n",
       "    </tr>\n",
       "    <tr>\n",
       "      <th>Beechview</th>\n",
       "      <td>9413.0</td>\n",
       "      <td>2473.0</td>\n",
       "    </tr>\n",
       "    <tr>\n",
       "      <th>Perry South</th>\n",
       "      <td>5609.0</td>\n",
       "      <td>1698.0</td>\n",
       "    </tr>\n",
       "    <tr>\n",
       "      <th>Greenfield</th>\n",
       "      <td>4345.0</td>\n",
       "      <td>1472.0</td>\n",
       "    </tr>\n",
       "    <tr>\n",
       "      <th>Hazelwood</th>\n",
       "      <td>4942.0</td>\n",
       "      <td>1374.0</td>\n",
       "    </tr>\n",
       "    <tr>\n",
       "      <th>Marshall-Shadeland</th>\n",
       "      <td>5260.0</td>\n",
       "      <td>1349.0</td>\n",
       "    </tr>\n",
       "    <tr>\n",
       "      <th>Mount Washington</th>\n",
       "      <td>5566.0</td>\n",
       "      <td>1316.0</td>\n",
       "    </tr>\n",
       "    <tr>\n",
       "      <th>Brookline</th>\n",
       "      <td>4769.0</td>\n",
       "      <td>1246.0</td>\n",
       "    </tr>\n",
       "    <tr>\n",
       "      <th>Fineview</th>\n",
       "      <td>3490.0</td>\n",
       "      <td>1174.0</td>\n",
       "    </tr>\n",
       "    <tr>\n",
       "      <th>Troy Hill</th>\n",
       "      <td>2401.0</td>\n",
       "      <td>1115.0</td>\n",
       "    </tr>\n",
       "  </tbody>\n",
       "</table>\n",
       "</div>"
      ],
      "text/plain": [
       "                     length  number_of_steps\n",
       "neighborhood                                \n",
       "South Side Slopes   12632.0           4081.0\n",
       "Beechview            9413.0           2473.0\n",
       "Perry South          5609.0           1698.0\n",
       "Greenfield           4345.0           1472.0\n",
       "Hazelwood            4942.0           1374.0\n",
       "Marshall-Shadeland   5260.0           1349.0\n",
       "Mount Washington     5566.0           1316.0\n",
       "Brookline            4769.0           1246.0\n",
       "Fineview             3490.0           1174.0\n",
       "Troy Hill            2401.0           1115.0"
      ]
     },
     "execution_count": 13,
     "metadata": {},
     "output_type": "execute_result"
    }
   ],
   "source": [
    "summarized_data = cleaned_data.groupby(['neighborhood']).sum()\n",
    "max_steps = summarized_data.nlargest( 20, ['number_of_steps'])\n",
    "max_steps.head(10)"
   ]
  },
  {
   "cell_type": "markdown",
   "metadata": {},
   "source": [
    "### **Plot our information ...**"
   ]
  },
  {
   "cell_type": "markdown",
   "metadata": {},
   "source": [
    "**1.** Display our summarized data in a bar chart"
   ]
  },
  {
   "cell_type": "code",
   "execution_count": 18,
   "metadata": {},
   "outputs": [
    {
     "data": {
      "image/png": "[encoded data removed]",
      "text/plain": [
       "<Figure size 1440x720 with 1 Axes>"
      ]
     },
     "metadata": {
      "needs_background": "light"
     },
     "output_type": "display_data"
    }
   ],
   "source": [
    "import matplotlib.pyplot as plt \n",
    "plotted = max_steps.plot.bar(  color = ['blue','gold'], width = .75, fontsize = 25, figsize =(20,10), legend = True, rot =90)\n",
    "plt.xlabel(xlabel = 'Neighborhoods', fontsize = 25)\n",
    "plt.ylabel(ylabel = 'Step Metrics', fontsize = 25)\n",
    "plt.title(label = \"Top 20 Pitt Neighborhoods (Stairs)\",fontsize = 30, pad = 25)\n",
    "plt.legend(['Length', 'Number of Steps'], fontsize =25,  shadow = True)\n",
    "plt.show()"
   ]
  },
  {
   "cell_type": "markdown",
   "metadata": {},
   "source": [
    "***"
   ]
  },
  {
   "cell_type": "markdown",
   "metadata": {},
   "source": [
    "#### <code style=\"font-size:75px;font-family:Impact;background:black;color:gold\">🏆 Steel City Rankings 🏆 </code>"
   ]
  },
  {
   "cell_type": "markdown",
   "metadata": {},
   "source": [
    "<code style=\"font-size:25px;font-family:Impact;background:white;color:black\"> 1. South Side Slopes </code>"
   ]
  },
  {
   "cell_type": "markdown",
   "metadata": {},
   "source": [
    "- Total Steps: 4081.0"
   ]
  },
  {
   "cell_type": "markdown",
   "metadata": {},
   "source": [
    "- Total Step Length: 12632.0"
   ]
  },
  {
   "cell_type": "markdown",
   "metadata": {},
   "source": [
    "<code style=\"font-size:25px;font-family:Impact;background:white;color:black\"> 2. BeechView </code>"
   ]
  },
  {
   "cell_type": "markdown",
   "metadata": {},
   "source": [
    "- Total Steps: 2473.0"
   ]
  },
  {
   "cell_type": "markdown",
   "metadata": {},
   "source": [
    "- Total Step Length: 9413.0"
   ]
  },
  {
   "cell_type": "markdown",
   "metadata": {},
   "source": [
    "<code style=\"font-size:25px;font-family:Impact;background:white;color:black\"> 3. Perry South </code>"
   ]
  },
  {
   "cell_type": "markdown",
   "metadata": {},
   "source": [
    "- Total Steps:  1698.0"
   ]
  },
  {
   "cell_type": "markdown",
   "metadata": {},
   "source": [
    "- Total Step Length: 5609.0"
   ]
  },
  {
   "cell_type": "markdown",
   "metadata": {},
   "source": [
    "<code style=\"font-size:25px;font-family:Impact;background:white;color:black\"> 4. Greenfield </code>"
   ]
  },
  {
   "cell_type": "markdown",
   "metadata": {},
   "source": [
    "- Total Steps: 1472.0"
   ]
  },
  {
   "cell_type": "markdown",
   "metadata": {},
   "source": [
    "- Total Step Length: 4345.0"
   ]
  },
  {
   "cell_type": "markdown",
   "metadata": {},
   "source": [
    "<code style=\"font-size:25px;font-family:Impact;background:white;color:black\"> 5. Hazelwood </code>"
   ]
  },
  {
   "cell_type": "markdown",
   "metadata": {},
   "source": [
    "- Total Steps: 1374.0"
   ]
  },
  {
   "cell_type": "markdown",
   "metadata": {},
   "source": [
    "- Total Step Length: 4942.0"
   ]
  },
  {
   "cell_type": "markdown",
   "metadata": {},
   "source": [
    "#### <code style=\"font-size:65px;font-family:Impact;background:black;color:gold\">🏆 WINNER: SOUTHSIDE SLOPES 🏆 </code>"
   ]
  },
  {
   "cell_type": "markdown",
   "metadata": {},
   "source": [
    "***"
   ]
  },
  {
   "cell_type": "markdown",
   "metadata": {},
   "source": [
    "### **Conclusion**"
   ]
  },
  {
   "cell_type": "markdown",
   "metadata": {},
   "source": [
    "Overall, I found that the best neighborhood within the city of Pittsburgh is South Side Slopes. I achieved this conclusion through analyzing the neighborhoods according to their respective number of steps and length. I decided to base my final ranking on the number of steps as I find that this is more indicative of a higher concentration as opposed to length. Ultimately, this metric enhances the endurance of the Pittsburgh spirit as well as its inherent diversity. Steps of all shapes and sizes are located throughout our beloved city, but we must choose one unfortunately. Through my analysis, I have determined that my best neighborhood according to my submetric is South Side Slopes. "
   ]
  }
 ],
 "metadata": {
  "kernelspec": {
   "display_name": "Python 3",
   "language": "python",
   "name": "python3"
  },
  "language_info": {
   "codemirror_mode": {
    "name": "ipython",
    "version": 3
   },
   "file_extension": ".py",
   "mimetype": "text/x-python",
   "name": "python",
   "nbconvert_exporter": "python",
   "pygments_lexer": "ipython3",
   "version": "3.8.3"
  }
 },
 "nbformat": 4,
 "nbformat_minor": 4
}
