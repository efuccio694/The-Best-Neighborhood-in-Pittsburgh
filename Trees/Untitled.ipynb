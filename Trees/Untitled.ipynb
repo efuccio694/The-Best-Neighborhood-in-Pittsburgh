{
 "cells": [
  {
   "cell_type": "markdown",
   "metadata": {},
   "source": [
    "# Trees\n",
    "## Health of the lungs\n",
    "Having many trees in your neighborhood is a sign of beauty, good health and happiness. Trees are essential to any ecosystem. Using the data that we've aquired, we will find out which neighborhoods benefit the most from their trees."
   ]
  },
  {
   "cell_type": "markdown",
   "metadata": {},
   "source": [
    "# Importing the data"
   ]
  },
  {
   "cell_type": "code",
<<<<<<< HEAD
   "execution_count": 2,
=======
   "execution_count": 1,
>>>>>>> f30bc64e3a5c60e620ebf3a0047fdac21ad50cfd
   "metadata": {},
   "outputs": [
    {
     "name": "stderr",
     "output_type": "stream",
     "text": [
      "<ipython-input-2-d67f620725fe>:2: DtypeWarning: Columns (1) have mixed types. Specify dtype option on import or set low_memory=False.\n",
      "  trees = pd.read_csv(\"trees.csv\")\n"
     ]
    }
   ],
   "source": [
    "import pandas as pd\n",
    "trees = pd.read_csv(\"trees.csv\")"
   ]
  },
  {
   "cell_type": "markdown",
   "metadata": {},
   "source": [
    "# Here's what it'll look like"
   ]
  },
  {
   "cell_type": "code",
   "execution_count": 2,
   "metadata": {},
   "outputs": [
    {
     "data": {
      "text/html": [
       "<div>\n",
       "<style scoped>\n",
       "    .dataframe tbody tr th:only-of-type {\n",
       "        vertical-align: middle;\n",
       "    }\n",
       "\n",
       "    .dataframe tbody tr th {\n",
       "        vertical-align: top;\n",
       "    }\n",
       "\n",
       "    .dataframe thead th {\n",
       "        text-align: right;\n",
       "    }\n",
       "</style>\n",
       "<table border=\"1\" class=\"dataframe\">\n",
       "  <thead>\n",
       "    <tr style=\"text-align: right;\">\n",
       "      <th></th>\n",
       "      <th>id</th>\n",
       "      <th>address_number</th>\n",
       "      <th>street</th>\n",
       "      <th>common_name</th>\n",
       "      <th>scientific_name</th>\n",
       "      <th>height</th>\n",
       "      <th>width</th>\n",
       "      <th>growth_space_length</th>\n",
       "      <th>growth_space_width</th>\n",
       "      <th>growth_space_type</th>\n",
       "      <th>...</th>\n",
       "      <th>neighborhood</th>\n",
       "      <th>council_district</th>\n",
       "      <th>ward</th>\n",
       "      <th>tract</th>\n",
       "      <th>public_works_division</th>\n",
       "      <th>pli_division</th>\n",
       "      <th>police_zone</th>\n",
       "      <th>fire_zone</th>\n",
       "      <th>latitude</th>\n",
       "      <th>longitude</th>\n",
       "    </tr>\n",
       "  </thead>\n",
       "  <tbody>\n",
       "    <tr>\n",
       "      <th>23688</th>\n",
       "      <td>1471459370</td>\n",
       "      <td>3445</td>\n",
       "      <td>BETHOVEN ST</td>\n",
       "      <td>Elm: American</td>\n",
       "      <td>Ulmus americana</td>\n",
       "      <td>25.0</td>\n",
       "      <td>10.0</td>\n",
       "      <td>99.0</td>\n",
       "      <td>18.0</td>\n",
       "      <td>Open or Restricted</td>\n",
       "      <td>...</td>\n",
       "      <td>Polish Hill</td>\n",
       "      <td>7.0</td>\n",
       "      <td>6.0</td>\n",
       "      <td>4.200306e+10</td>\n",
       "      <td>6.0</td>\n",
       "      <td>6.0</td>\n",
       "      <td>2.0</td>\n",
       "      <td>2-6</td>\n",
       "      <td>40.458280</td>\n",
       "      <td>-79.961077</td>\n",
       "    </tr>\n",
       "    <tr>\n",
       "      <th>33749</th>\n",
       "      <td>465489140</td>\n",
       "      <td>NaN</td>\n",
       "      <td>NaN</td>\n",
       "      <td>Oak: Northern Red</td>\n",
       "      <td>Quercus rubra</td>\n",
       "      <td>0.0</td>\n",
       "      <td>0.0</td>\n",
       "      <td>0.0</td>\n",
       "      <td>0.0</td>\n",
       "      <td>Open or Unrestricted</td>\n",
       "      <td>...</td>\n",
       "      <td>Squirrel Hill South</td>\n",
       "      <td>5.0</td>\n",
       "      <td>14.0</td>\n",
       "      <td>4.200398e+10</td>\n",
       "      <td>3.0</td>\n",
       "      <td>14.0</td>\n",
       "      <td>4.0</td>\n",
       "      <td>2-8</td>\n",
       "      <td>40.433470</td>\n",
       "      <td>-79.939226</td>\n",
       "    </tr>\n",
       "    <tr>\n",
       "      <th>34746</th>\n",
       "      <td>2012251092</td>\n",
       "      <td>NaN</td>\n",
       "      <td>NaN</td>\n",
       "      <td>Hornbeam: European</td>\n",
       "      <td>Carpinus betulus</td>\n",
       "      <td>0.0</td>\n",
       "      <td>0.0</td>\n",
       "      <td>0.0</td>\n",
       "      <td>0.0</td>\n",
       "      <td>Open or Unrestricted</td>\n",
       "      <td>...</td>\n",
       "      <td>Squirrel Hill South</td>\n",
       "      <td>5.0</td>\n",
       "      <td>14.0</td>\n",
       "      <td>4.200398e+10</td>\n",
       "      <td>3.0</td>\n",
       "      <td>14.0</td>\n",
       "      <td>4.0</td>\n",
       "      <td>2-21</td>\n",
       "      <td>40.436846</td>\n",
       "      <td>-79.908022</td>\n",
       "    </tr>\n",
       "    <tr>\n",
       "      <th>3384</th>\n",
       "      <td>85174885</td>\n",
       "      <td>5332</td>\n",
       "      <td>SECOND AVE</td>\n",
       "      <td>Redbud: Eastern</td>\n",
       "      <td>Cercis canadensis</td>\n",
       "      <td>7.0</td>\n",
       "      <td>3.0</td>\n",
       "      <td>8.0</td>\n",
       "      <td>3.0</td>\n",
       "      <td>Well or Pit</td>\n",
       "      <td>...</td>\n",
       "      <td>Hazelwood</td>\n",
       "      <td>5.0</td>\n",
       "      <td>15.0</td>\n",
       "      <td>4.200356e+10</td>\n",
       "      <td>3.0</td>\n",
       "      <td>15.0</td>\n",
       "      <td>4.0</td>\n",
       "      <td>2-13</td>\n",
       "      <td>40.403357</td>\n",
       "      <td>-79.942261</td>\n",
       "    </tr>\n",
       "    <tr>\n",
       "      <th>7244</th>\n",
       "      <td>876335450</td>\n",
       "      <td>1414</td>\n",
       "      <td>BRIGHTON RD</td>\n",
       "      <td>Ash: Green</td>\n",
       "      <td>Fraxinus pennsylvanica</td>\n",
       "      <td>15.0</td>\n",
       "      <td>8.0</td>\n",
       "      <td>3.0</td>\n",
       "      <td>3.0</td>\n",
       "      <td>Well or Pit</td>\n",
       "      <td>...</td>\n",
       "      <td>Central Northside</td>\n",
       "      <td>6.0</td>\n",
       "      <td>25.0</td>\n",
       "      <td>4.200325e+10</td>\n",
       "      <td>1.0</td>\n",
       "      <td>25.0</td>\n",
       "      <td>1.0</td>\n",
       "      <td>1-21</td>\n",
       "      <td>40.456798</td>\n",
       "      <td>-80.015330</td>\n",
       "    </tr>\n",
       "  </tbody>\n",
       "</table>\n",
       "<p>5 rows × 58 columns</p>\n",
       "</div>"
      ],
      "text/plain": [
       "               id address_number       street         common_name  \\\n",
       "23688  1471459370           3445  BETHOVEN ST       Elm: American   \n",
       "33749   465489140            NaN          NaN   Oak: Northern Red   \n",
       "34746  2012251092            NaN          NaN  Hornbeam: European   \n",
       "3384     85174885           5332   SECOND AVE     Redbud: Eastern   \n",
       "7244    876335450           1414  BRIGHTON RD          Ash: Green   \n",
       "\n",
       "              scientific_name  height  width  growth_space_length  \\\n",
       "23688         Ulmus americana    25.0   10.0                 99.0   \n",
       "33749           Quercus rubra     0.0    0.0                  0.0   \n",
       "34746        Carpinus betulus     0.0    0.0                  0.0   \n",
       "3384        Cercis canadensis     7.0    3.0                  8.0   \n",
       "7244   Fraxinus pennsylvanica    15.0    8.0                  3.0   \n",
       "\n",
       "       growth_space_width     growth_space_type  ...         neighborhood  \\\n",
       "23688                18.0    Open or Restricted  ...          Polish Hill   \n",
       "33749                 0.0  Open or Unrestricted  ...  Squirrel Hill South   \n",
       "34746                 0.0  Open or Unrestricted  ...  Squirrel Hill South   \n",
       "3384                  3.0           Well or Pit  ...            Hazelwood   \n",
       "7244                  3.0           Well or Pit  ...    Central Northside   \n",
       "\n",
       "       council_district  ward         tract public_works_division  \\\n",
       "23688               7.0   6.0  4.200306e+10                   6.0   \n",
       "33749               5.0  14.0  4.200398e+10                   3.0   \n",
       "34746               5.0  14.0  4.200398e+10                   3.0   \n",
       "3384                5.0  15.0  4.200356e+10                   3.0   \n",
       "7244                6.0  25.0  4.200325e+10                   1.0   \n",
       "\n",
       "       pli_division  police_zone  fire_zone   latitude  longitude  \n",
       "23688           6.0          2.0        2-6  40.458280 -79.961077  \n",
       "33749          14.0          4.0        2-8  40.433470 -79.939226  \n",
       "34746          14.0          4.0       2-21  40.436846 -79.908022  \n",
       "3384           15.0          4.0       2-13  40.403357 -79.942261  \n",
       "7244           25.0          1.0       1-21  40.456798 -80.015330  \n",
       "\n",
       "[5 rows x 58 columns]"
      ]
     },
     "execution_count": 2,
     "metadata": {},
     "output_type": "execute_result"
    }
   ],
   "source": [
    "trees.sample(5)"
   ]
  },
  {
   "cell_type": "markdown",
   "metadata": {},
   "source": [
    "# Neighborhoods listed in the dataset"
   ]
  },
  {
   "cell_type": "code",
   "execution_count": 3,
   "metadata": {},
   "outputs": [
    {
     "data": {
      "text/plain": [
       "array(['Homewood North', 'Oakwood', 'South Side Flats', 'East Allegheny',\n",
       "       'Highland Park', 'Stanton Heights', 'Sheraden', 'Chartiers City',\n",
       "       'Elliott', 'Morningside', 'Bloomfield', 'Friendship', 'Garfield',\n",
       "       'Polish Hill', 'Lower Lawrenceville', 'Central Northside',\n",
       "       'East Liberty', 'Central Lawrenceville', 'Shadyside',\n",
       "       'Allegheny Center', 'Homewood South', 'Point Breeze North',\n",
       "       'East Hills', 'Homewood West', 'Greenfield', 'Hazelwood',\n",
       "       'Squirrel Hill South', 'Marshall-Shadeland', 'Brighton Heights',\n",
       "       'North Shore', 'Overbrook', 'Knoxville', 'Brookline',\n",
       "       'South Side Slopes', 'Arlington', 'Arlington Heights', 'Carrick',\n",
       "       'Bedford Dwellings', 'Central Business District', 'Bluff',\n",
       "       'West Oakland', 'South Oakland', 'Squirrel Hill North',\n",
       "       'Point Breeze', 'Lincoln-Lemington-Belmar', 'Bon Air',\n",
       "       'Mount Washington', 'California-Kirkbride', 'New Homestead',\n",
       "       'Central Oakland', 'Crafton Heights', 'Beechview', 'Manchester',\n",
       "       'Allentown', 'Beltzhoover', 'Allegheny West', 'Chateau',\n",
       "       'Duquesne Heights', 'Perry North', 'Perry South', 'Middle Hill',\n",
       "       'Troy Hill', 'Terrace Village', 'Upper Hill', 'North Oakland',\n",
       "       'Fineview', 'Strip District', 'Windgap', 'Crawford-Roberts',\n",
       "       'Larimer', 'Lincoln Place', 'Regent Square', 'Banksville',\n",
       "       'Swisshelm Park', 'Spring Garden', 'Spring Hill-City View',\n",
       "       'Westwood', 'Fairywood', 'Summer Hill', 'West End',\n",
       "       'Upper Lawrenceville', 'Ridgemont', 'Esplen', 'East Carnegie',\n",
       "       'South Shore', 'St. Clair', 'Mt. Oliver', 'Northview Heights', nan,\n",
       "       'Glen Hazel', 'Hays'], dtype=object)"
      ]
     },
     "execution_count": 3,
     "metadata": {},
     "output_type": "execute_result"
    }
   ],
   "source": [
    "trees['neighborhood'].unique()"
   ]
  },
  {
   "cell_type": "markdown",
   "metadata": {},
   "source": [
    "# It even lists the different types of trees!"
   ]
  },
  {
   "cell_type": "code",
   "execution_count": 4,
   "metadata": {},
   "outputs": [
    {
     "data": {
      "text/plain": [
       "array(['Stump', 'Linden: Littleleaf', 'Maple: Red', 'Maple: Freeman',\n",
       "       'Maple: Norway', 'Oak: Pin', 'Dogwood: Corneliancherry',\n",
       "       'Honeylocust: Thornless', 'Oak: Northern Red',\n",
       "       'Sweetgum: American', 'Ginkgo', 'Locust: Black', 'Cherry: Black',\n",
       "       'London planetree', 'Horsechestnut', 'Catalpa: Northern',\n",
       "       'Elm: American', 'Oak: Sawtooth', 'Serviceberry: Downy',\n",
       "       'Hornbeam: European', 'Lilac: Japanese Tree',\n",
       "       'Baldcypress: Common', 'Maple: Amur', 'Linden: Silver',\n",
       "       'Oak: Swamp White', 'Pear: Callery', 'Crabapple: Flowering',\n",
       "       'Maple: Hedge', 'Maple: Miyabei', 'Maple: Paperbark',\n",
       "       'Hawthorn: spp.', 'Zelkova: Japanese', 'Cherry/Plum: spp.',\n",
       "       'Redbud: Eastern', 'Hackberry: Common', 'Serviceberry: Eastern',\n",
       "       'Dogwood: Kousa', 'Maple: spp.', 'Maple: Tatarian', 'Elm: spp.',\n",
       "       'Spruce: Colorado', 'Spruce: Norway', 'Mulberry: White',\n",
       "       'Maple: Silver', 'Serviceberry: Smooth', 'Arborvitae: Eastern',\n",
       "       'Tuliptree', 'Coffeetree: Kentucky', 'Maple: Japanese',\n",
       "       'Dogwood: Roughleaf', 'Buckeye: Yellow', 'Linden: American',\n",
       "       'Sycamore: American', 'Maple: Sugar', 'Buckeye: Ohio',\n",
       "       'Tree-of-Heaven', 'Pagodatree: Japanese', 'Vacant Site Medium',\n",
       "       'Redcedar: Eastern', 'Elm: Siberian', 'Unknown',\n",
       "       'Vacant Site Not Suitable', 'Goldenraintree', 'Elm: Slippery',\n",
       "       'Ash: spp.', 'Spruce: White', 'Vacant Site Small', 'Ash: Green',\n",
       "       'Filbert: Turkish', 'Dogwood: Flowering', 'Birch: River',\n",
       "       'Hornbeam: American', 'Yew: spp.', 'Magnolia: Sweetbay',\n",
       "       'Pear: Common', 'Maple: Black', 'Cherry: Sweet', 'Willow: Weeping',\n",
       "       'Osage-orange', 'Oak: White', 'Magnolia: Saucer', 'Willow: Black',\n",
       "       'Ash: White', 'Pine: Eastern White', 'Amur Maackia',\n",
       "       'Hemlock: Eastern', 'Hickory: Bitternut', 'Amur Corktree',\n",
       "       'Honeylocust', 'Mulberry: Red', 'Butternut', 'Boxelder',\n",
       "       'Holly: American', 'Birch: Paper', 'Dawn Redwood', 'Plum: Cherry',\n",
       "       'Cherry: Japanese Flowering', 'Rose-of-Sharon', 'Oak: Black',\n",
       "       'Walnut: Black', 'Oak: English', 'Pine: Scotch', 'Apple: Paradise',\n",
       "       'Magnolia: Star', 'Cherry: Pin', 'Witchhazel: Common',\n",
       "       'Apple: Common', 'Mountainash: American', 'Persian Parrotia',\n",
       "       'Maple: Sycamore', 'Pine: Austrian', 'Elm: Lacebark',\n",
       "       'Maple: Trident', 'Oak: Chinkapin', 'Katsuratree',\n",
       "       'Hophornbeam: American', 'Pear: spp.', 'Oak: Scarlet',\n",
       "       'Hardy Rubbertree', 'Elderberry: Common', 'Lilac: Common',\n",
       "       'Oak: Bur', 'Tupelo: Black', 'Maple: Striped',\n",
       "       'Cottonwood: Eastern', 'Hawthorn: Green', 'Yellowwood: American',\n",
       "       'Vacant Site Large', 'Oak: spp.', 'Mimosa', 'Magnolia: Southern',\n",
       "       'Douglas-fir', 'Falsecypress: Sawara', 'Beech: European',\n",
       "       'Russian-olive', 'Spruce: Engelmann', 'Peach: Common',\n",
       "       'Magnolia: Cucumbertree', 'Willow: Hankow', 'Redbud: Southwestern',\n",
       "       'Birch: European White', 'Cherry: Higan', 'Chokecherry: Common',\n",
       "       'Willow: Pussy', 'Smoketree: Common', 'Birch: Gray',\n",
       "       'Chestnut: Chinese', 'Mountainash: European', 'Oak: Water',\n",
       "       'Serviceberry: Western', 'Pine: Virginia', 'Beech: American',\n",
       "       'Sumac: Smooth', 'Buckeye: Red', 'Sassafras',\n",
       "       'Falsecypress: Nootka', 'Hickory: Pignut', 'Buckthorn: Common',\n",
       "       'Pawpaw: Common', 'Pine: Mugo', 'Cedar: Atlas',\n",
       "       'Silverbell: Mountain', 'Smoketree: American', 'Poplar: Lombardy',\n",
       "       'Cherry: Sargent', 'Plum: Canada', 'Cherry: Yoshino',\n",
       "       'Magnolia: Umbrella', 'Pecan', 'Fir: White', 'Wisteria: spp.',\n",
       "       'Larch: American', 'Pine: Red', 'Fir: Balsam', 'Pine: Lacebark',\n",
       "       nan, 'Filbert: American', 'Walnut: English', 'Oak: Willow',\n",
       "       'Sumac: Staghorn', 'Whitecedar: Atlantic', 'Snowbell: American',\n",
       "       'Plum: American', 'Spruce: Alberta White', 'Snowbell: Japanese',\n",
       "       'Poplar: White', 'Filbert: Beaked', 'Viburnum: Blackhaw',\n",
       "       'Elm: Hybrid', 'Fringetree: White', 'Goldenchain Tree',\n",
       "       'Fringetree: Chinese', 'Non-sufficient space',\n",
       "       'Serviceberry: spp.', 'Barberry: Japanese', 'Boxwood: spp.',\n",
       "       'Birch: Yellow', 'Pine: White Japanese', 'Fir: Fraser',\n",
       "       'Oak: Shingle', 'Oak: Turkey', 'Poplar: Carolina',\n",
       "       'Spruce: Serbian', 'Pine: Limber', 'Dogwood: Pagoda',\n",
       "       'Cryptomeria: Japanese', 'Oak: Chestnut', 'Linden: Silver Pendant',\n",
       "       'Willow: spp.', 'Magnolia: spp.', 'Maple: Shantung', 'Sequoia',\n",
       "       'Hickory: Mockernut', 'Maple: Truncatum x', 'Persimmon: Common',\n",
       "       'Chestnut: American', 'Spruce: spp.', 'Pine: Ponderosa',\n",
       "       'Buckeye spp.', 'Ash: Black', 'Horsechestnut: Red',\n",
       "       'Silverbell: Carolina', 'Magnolia: Bigleaf', 'Evodia: Korean',\n",
       "       'Falsecypress: Lawson', 'Fig: Common', 'Juniper: spp.',\n",
       "       'Larch: Golden', 'Unknown Shrub', 'Dogwood: spp.', 'Elm: Winged',\n",
       "       'Crabapple: Donald Wyman Flowering', 'Pine: spp.',\n",
       "       'Mulberry: Paper', 'Oak, Hybrid'], dtype=object)"
      ]
     },
     "execution_count": 4,
     "metadata": {},
     "output_type": "execute_result"
    }
   ],
   "source": [
    "trees['common_name'].unique()"
   ]
  },
  {
   "cell_type": "markdown",
   "metadata": {},
   "source": [
    "# Here are the top 10 neighborhoods with the most trees"
   ]
  },
  {
   "cell_type": "code",
<<<<<<< HEAD
   "execution_count": 3,
=======
   "execution_count": 5,
>>>>>>> f30bc64e3a5c60e620ebf3a0047fdac21ad50cfd
   "metadata": {},
   "outputs": [
    {
     "name": "stdout",
     "output_type": "stream",
     "text": [
      "Neighborhood                Trees\n"
     ]
    },
    {
     "data": {
      "text/plain": [
       "Squirrel Hill South          5073\n",
       "Highland Park                2941\n",
       "Squirrel Hill North          2083\n",
       "South Side Flats             1693\n",
       "Shadyside                    1558\n",
       "Bloomfield                   1436\n",
       "East Liberty                 1366\n",
       "Point Breeze                 1316\n",
       "Perry North                  1007\n",
       "Central Business District    1002\n",
       "Name: neighborhood, dtype: int64"
      ]
     },
<<<<<<< HEAD
     "execution_count": 3,
=======
     "execution_count": 5,
>>>>>>> f30bc64e3a5c60e620ebf3a0047fdac21ad50cfd
     "metadata": {},
     "output_type": "execute_result"
    }
   ],
   "source": [
    "print(\"Neighborhood                Trees\")\n",
    "trees['neighborhood'].value_counts().head(10)"
   ]
  },
  {
   "cell_type": "code",
   "execution_count": 3,
   "metadata": {},
   "outputs": [
    {
     "data": {
      "text/plain": [
       "<matplotlib.axes._subplots.AxesSubplot at 0x7f3dcf7a1370>"
      ]
     },
     "execution_count": 3,
     "metadata": {},
     "output_type": "execute_result"
    },
    {
     "data": {
      "image/png": "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\n",
      "text/plain": [
       "<Figure size 1080x1080 with 1 Axes>"
      ]
     },
     "metadata": {
      "needs_background": "light"
     },
     "output_type": "display_data"
    }
   ],
   "source": [
    "trees['neighborhood'].value_counts().head(10).plot(kind='bar', width=0.8, align='center', figsize=(15,15), cmap='plasma')"
   ]
  },
  {
   "cell_type": "markdown",
   "metadata": {},
   "source": [
    "# Property value benefits from trees in each neighborhood ($)"
   ]
  },
  {
   "cell_type": "code",
<<<<<<< HEAD
   "execution_count": 4,
=======
   "execution_count": 7,
>>>>>>> f30bc64e3a5c60e620ebf3a0047fdac21ad50cfd
   "metadata": {},
   "outputs": [
    {
     "name": "stdout",
     "output_type": "stream",
     "text": [
      "{'Oakwood': 4241.806053176863, 'South Side Flats': 67263.96929603667, 'East Allegheny': 17539.848708590813, 'Highland Park': 162721.29348721742, 'Sheraden': 13600.32316204017, 'Chartiers City': 1679.8600321367053, 'Elliott': 6914.383245632302, 'Stanton Heights': 42892.07276280259, 'Morningside': 16382.20654874849, 'Bloomfield': 57972.65867711192, 'Friendship': 12482.754537828056, 'Garfield': 28141.194616009885, 'Polish Hill': 8648.95906823373, 'Lower Lawrenceville': 23857.918025637475, 'Central Northside': 28539.45063327815, 'East Liberty': 53386.019590411735, 'Central Lawrenceville': 23887.06839059347, 'Shadyside': 75042.75321652676, 'Allegheny Center': 57963.12600066445, 'Homewood South': 15106.705934652457, 'Homewood North': 14421.148051155678, 'Point Breeze North': 23710.877049879135, 'East Hills': 24808.560318597403, 'Homewood West': 3898.87630479379, 'Greenfield': 28510.616513886856, 'Hazelwood': 26991.782650084497, 'Squirrel Hill South': 286319.3423107425, 'Marshall-Shadeland': 22625.209554866185, 'Brighton Heights': 40260.69697059817, 'North Shore': 26266.158172412677, 'Overbrook': 12472.562578296396, 'Knoxville': 22433.284423222147, 'Brookline': 40499.37285723642, 'South Side Slopes': 6655.4228006782305, 'Arlington': 2666.4227880056587, 'Arlington Heights': 330.2892044606, 'Carrick': 30268.62198252194, 'Bedford Dwellings': 5980.743688211005, 'Central Business District': 53902.80625156629, 'Bluff': 9548.291692643248, 'West Oakland': 3312.2106399826603, 'South Oakland': 9322.45487168732, 'Squirrel Hill North': 118348.74252427471, 'Point Breeze': 66381.1960658057, 'Lincoln-Lemington-Belmar': 30640.085437379435, 'Bon Air': 3500.249635313838, 'Mount Washington': 30471.0990574683, 'California-Kirkbride': 3955.3809370337594, 'New Homestead': 9169.01557567779, 'Central Oakland': 19594.096005928433, 'Crafton Heights': 16082.798170451455, 'Beechview': 25044.91614600626, 'Manchester': 30859.035306028865, 'Allentown': 3318.1988779914254, 'Beltzhoover': 5202.680792714162, 'Allegheny West': 22959.330812397275, 'Chateau': 15580.62526269266, 'Duquesne Heights': 3518.666898155045, 'Perry North': 56286.033724284905, 'Perry South': 18312.986458648873, 'Middle Hill': 12475.733622118974, 'Troy Hill': 5455.262221728363, 'Terrace Village': 12810.111110714482, 'Upper Hill': 6721.646980432498, 'North Oakland': 36727.2126580649, 'Fineview': 5396.0834674884, 'Strip District': 18365.592368518188, 'Windgap': 5637.833227521683, 'Crawford-Roberts': 24581.31439743709, 'Larimer': 13232.248159171495, 'Lincoln Place': 12434.315812734887, 'Regent Square': 23346.352456197692, 'Banksville': 21702.22606649831, 'Swisshelm Park': 12598.128026323873, 'Spring Garden': 2305.3787202772846, 'Spring Hill-City View': 4446.275733111702, 'Westwood': 12383.676819629676, 'Fairywood': 2223.8674687326, 'Summer Hill': 4693.987026337498, 'West End': 5434.736233791099, 'Upper Lawrenceville': 19677.196015850746, 'Ridgemont': 1457.5446867778899, 'Esplen': 100.6006129203, 'East Carnegie': 281.4131844799, 'South Shore': 22.5731852302, 'St. Clair': 997.6956524256001, 'Mt. Oliver': 640.8402047673, 'Northview Heights': 430.85674691579993, nan: 361.1058341451, 'Glen Hazel': 64.43393591719999, 'Hays': 97.391293044}\n"
     ]
    }
   ],
   "source": [
    "import math\n",
    "d = {}\n",
    "for index, row in trees.iterrows():\n",
    "    if row['neighborhood'] in d.keys():\n",
    "        if math.isnan(row['property_value_benefits_dollarvalue']) == False:\n",
    "            d[row['neighborhood']] += row['property_value_benefits_dollarvalue']\n",
    "    else:\n",
    "        if math.isnan(row['property_value_benefits_dollarvalue']) == False:\n",
    "            d[row['neighborhood']] = row['property_value_benefits_dollarvalue']\n",
    "        \n",
    "print(d)"
   ]
  },
  {
   "cell_type": "markdown",
   "metadata": {},
   "source": [
    "## Here are the 10 neighborhoods with the biggest property value benefits"
   ]
  },
  {
   "cell_type": "code",
   "execution_count": 5,
   "metadata": {},
   "outputs": [
    {
     "name": "stdout",
     "output_type": "stream",
     "text": [
      "Squirrel Hill South: 286319.3423107425\n",
      "\n",
      "Highland Park: 162721.29348721742\n",
      "\n",
      "Squirrel Hill North: 118348.74252427471\n",
      "\n",
      "Shadyside: 75042.75321652676\n",
      "\n",
      "South Side Flats: 67263.96929603667\n",
      "\n",
      "Point Breeze: 66381.1960658057\n",
      "\n",
      "Bloomfield: 57972.65867711192\n",
      "\n",
      "Allegheny Center: 57963.12600066445\n",
      "\n",
      "Perry North: 56286.033724284905\n",
      "\n",
      "Central Business District: 53902.80625156629\n",
      "\n"
     ]
    }
   ],
   "source": [
    "from operator import itemgetter\n",
    "newd = dict(sorted(d.items(), key = itemgetter(1), reverse = True)[:10])\n",
    "for key in newd:\n",
    "    print(key + ': ' + str(newd[key]))\n",
    "    print()"
   ]
  },
  {
   "cell_type": "markdown",
   "metadata": {},
   "source": [
    "## Top 10 overall neighborhoods\n",
    "Judged by adding up all the numbers in the tree count and property value benefits dictionary"
   ]
  },
  {
   "cell_type": "code",
   "execution_count": 11,
   "metadata": {},
   "outputs": [
    {
     "name": "stdout",
     "output_type": "stream",
     "text": [
      "Squirrel Hill South: 311684.3423107425\n",
      "\n",
      "Highland Park: 177426.29348721742\n",
      "\n",
      "Squirrel Hill North: 128763.74252427471\n",
      "\n",
      "Shadyside: 82832.75321652676\n",
      "\n",
      "South Side Flats: 75728.96929603667\n",
      "\n",
      "Point Breeze: 72961.1960658057\n",
      "\n",
      "Bloomfield: 65152.65867711192\n",
      "\n",
      "Allegheny Center: 62298.12600066445\n",
      "\n",
      "Perry North: 61321.033724284905\n",
      "\n",
      "East Liberty: 60216.019590411735\n",
      "\n"
     ]
    }
   ],
   "source": [
    "for index, row in trees.iterrows():\n",
    "    if row['neighborhood'] in d.keys():\n",
    "        d[row['neighborhood']] += 1\n",
    "        \n",
    "total = dict(sorted(d.items(), key = itemgetter(1), reverse = True)[:10])\n",
    "for key in total:\n",
    "    print(key + ': ' + str(total[key]))\n",
    "    print()"
   ]
  },
  {
   "cell_type": "markdown",
   "metadata": {},
   "source": [
    "## Winner: Squirrel Hill South\n",
    "Due to it having the most trees and the biggest property value benefits from its trees, Squirrel Hill South is the best neighborhood in Pittsburgh according to the tree metric"
   ]
  },
  {
   "cell_type": "code",
   "execution_count": null,
   "metadata": {},
   "outputs": [],
   "source": []
  }
 ],
 "metadata": {
  "kernelspec": {
   "display_name": "Python 3",
   "language": "python",
   "name": "python3"
  },
  "language_info": {
   "codemirror_mode": {
    "name": "ipython",
    "version": 3
   },
   "file_extension": ".py",
   "mimetype": "text/x-python",
   "name": "python",
   "nbconvert_exporter": "python",
   "pygments_lexer": "ipython3",
   "version": "3.8.3"
  }
 },
 "nbformat": 4,
 "nbformat_minor": 4
}
