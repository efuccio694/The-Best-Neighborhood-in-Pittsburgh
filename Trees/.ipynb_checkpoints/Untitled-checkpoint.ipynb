{
 "cells": [
  {
   "cell_type": "markdown",
   "metadata": {},
   "source": [
    "# Trees\n",
    "## Health of the lungs\n",
    "Having many trees in your neighborhood is a sign of beauty, good health and happiness. Trees are essential to any ecosystem. Using the data that we've aquired, we will find out which neighborhoods benefit the most from their trees."
   ]
  },
  {
   "cell_type": "markdown",
   "metadata": {},
   "source": [
    "# Importing the data"
   ]
  },
  {
   "cell_type": "code",
   "execution_count": 4,
   "metadata": {},
   "outputs": [
    {
     "name": "stderr",
     "output_type": "stream",
     "text": [
      "/opt/tljh/user/lib/python3.8/site-packages/IPython/core/interactiveshell.py:3071: DtypeWarning: Columns (1) have mixed types.Specify dtype option on import or set low_memory=False.\n",
      "  has_raised = await self.run_ast_nodes(code_ast.body, cell_name,\n"
     ]
    }
   ],
   "source": [
    "import pandas as pd\n",
    "trees = pd.read_csv(\"trees.csv\")"
   ]
  },
  {
   "cell_type": "markdown",
   "metadata": {},
   "source": [
    "# Here's what it'll look like"
   ]
  },
  {
   "cell_type": "code",
   "execution_count": 10,
   "metadata": {},
   "outputs": [
    {
     "data": {
      "text/html": [
       "<div>\n",
       "<style scoped>\n",
       "    .dataframe tbody tr th:only-of-type {\n",
       "        vertical-align: middle;\n",
       "    }\n",
       "\n",
       "    .dataframe tbody tr th {\n",
       "        vertical-align: top;\n",
       "    }\n",
       "\n",
       "    .dataframe thead th {\n",
       "        text-align: right;\n",
       "    }\n",
       "</style>\n",
       "<table border=\"1\" class=\"dataframe\">\n",
       "  <thead>\n",
       "    <tr style=\"text-align: right;\">\n",
       "      <th></th>\n",
       "      <th>id</th>\n",
       "      <th>address_number</th>\n",
       "      <th>street</th>\n",
       "      <th>common_name</th>\n",
       "      <th>scientific_name</th>\n",
       "      <th>height</th>\n",
       "      <th>width</th>\n",
       "      <th>growth_space_length</th>\n",
       "      <th>growth_space_width</th>\n",
       "      <th>growth_space_type</th>\n",
       "      <th>...</th>\n",
       "      <th>neighborhood</th>\n",
       "      <th>council_district</th>\n",
       "      <th>ward</th>\n",
       "      <th>tract</th>\n",
       "      <th>public_works_division</th>\n",
       "      <th>pli_division</th>\n",
       "      <th>police_zone</th>\n",
       "      <th>fire_zone</th>\n",
       "      <th>latitude</th>\n",
       "      <th>longitude</th>\n",
       "    </tr>\n",
       "  </thead>\n",
       "  <tbody>\n",
       "    <tr>\n",
       "      <th>30451</th>\n",
       "      <td>1816229023</td>\n",
       "      <td>6537</td>\n",
       "      <td>NORTHUMBERLAND ST</td>\n",
       "      <td>London planetree</td>\n",
       "      <td>Platanus x acerifolia</td>\n",
       "      <td>22.0</td>\n",
       "      <td>9.0</td>\n",
       "      <td>12.0</td>\n",
       "      <td>3.0</td>\n",
       "      <td>Well or Pit</td>\n",
       "      <td>...</td>\n",
       "      <td>Squirrel Hill North</td>\n",
       "      <td>8.0</td>\n",
       "      <td>14.0</td>\n",
       "      <td>4.200314e+10</td>\n",
       "      <td>3.0</td>\n",
       "      <td>14.0</td>\n",
       "      <td>4.0</td>\n",
       "      <td>2-18</td>\n",
       "      <td>40.442630</td>\n",
       "      <td>-79.915543</td>\n",
       "    </tr>\n",
       "    <tr>\n",
       "      <th>23032</th>\n",
       "      <td>389921531</td>\n",
       "      <td>601</td>\n",
       "      <td>N NEGLEY AVE</td>\n",
       "      <td>Oak: Northern Red</td>\n",
       "      <td>Quercus rubra</td>\n",
       "      <td>40.0</td>\n",
       "      <td>6.0</td>\n",
       "      <td>99.0</td>\n",
       "      <td>99.0</td>\n",
       "      <td>Open or Unrestricted</td>\n",
       "      <td>...</td>\n",
       "      <td>East Liberty</td>\n",
       "      <td>9.0</td>\n",
       "      <td>11.0</td>\n",
       "      <td>4.200311e+10</td>\n",
       "      <td>2.0</td>\n",
       "      <td>11.0</td>\n",
       "      <td>5.0</td>\n",
       "      <td>3-8</td>\n",
       "      <td>40.468964</td>\n",
       "      <td>-79.927508</td>\n",
       "    </tr>\n",
       "    <tr>\n",
       "      <th>27613</th>\n",
       "      <td>1800635202</td>\n",
       "      <td>4316</td>\n",
       "      <td>WINTERBURN AVE</td>\n",
       "      <td>Maple: Red</td>\n",
       "      <td>Acer rubrum</td>\n",
       "      <td>25.0</td>\n",
       "      <td>7.0</td>\n",
       "      <td>4.0</td>\n",
       "      <td>3.0</td>\n",
       "      <td>Well or Pit</td>\n",
       "      <td>...</td>\n",
       "      <td>Greenfield</td>\n",
       "      <td>5.0</td>\n",
       "      <td>15.0</td>\n",
       "      <td>4.200315e+10</td>\n",
       "      <td>3.0</td>\n",
       "      <td>15.0</td>\n",
       "      <td>4.0</td>\n",
       "      <td>2-12</td>\n",
       "      <td>40.420503</td>\n",
       "      <td>-79.940288</td>\n",
       "    </tr>\n",
       "    <tr>\n",
       "      <th>44617</th>\n",
       "      <td>143137270</td>\n",
       "      <td>1019</td>\n",
       "      <td>E CARSON ST</td>\n",
       "      <td>Stump</td>\n",
       "      <td>Stump</td>\n",
       "      <td>0.0</td>\n",
       "      <td>0.0</td>\n",
       "      <td>2.0</td>\n",
       "      <td>2.0</td>\n",
       "      <td>Well or Pit</td>\n",
       "      <td>...</td>\n",
       "      <td>South Side Flats</td>\n",
       "      <td>3.0</td>\n",
       "      <td>17.0</td>\n",
       "      <td>4.200317e+10</td>\n",
       "      <td>3.0</td>\n",
       "      <td>17.0</td>\n",
       "      <td>3.0</td>\n",
       "      <td>4-24</td>\n",
       "      <td>40.428773</td>\n",
       "      <td>-79.987759</td>\n",
       "    </tr>\n",
       "    <tr>\n",
       "      <th>37248</th>\n",
       "      <td>1096745811</td>\n",
       "      <td>NaN</td>\n",
       "      <td>NaN</td>\n",
       "      <td>Oak: Northern Red</td>\n",
       "      <td>Quercus rubra</td>\n",
       "      <td>0.0</td>\n",
       "      <td>0.0</td>\n",
       "      <td>0.0</td>\n",
       "      <td>0.0</td>\n",
       "      <td>Open or Unrestricted</td>\n",
       "      <td>...</td>\n",
       "      <td>Highland Park</td>\n",
       "      <td>7.0</td>\n",
       "      <td>11.0</td>\n",
       "      <td>4.200398e+10</td>\n",
       "      <td>2.0</td>\n",
       "      <td>11.0</td>\n",
       "      <td>5.0</td>\n",
       "      <td>3-9</td>\n",
       "      <td>40.482065</td>\n",
       "      <td>-79.917637</td>\n",
       "    </tr>\n",
       "  </tbody>\n",
       "</table>\n",
       "<p>5 rows × 58 columns</p>\n",
       "</div>"
      ],
      "text/plain": [
       "               id address_number             street        common_name  \\\n",
       "30451  1816229023           6537  NORTHUMBERLAND ST   London planetree   \n",
       "23032   389921531            601       N NEGLEY AVE  Oak: Northern Red   \n",
       "27613  1800635202           4316     WINTERBURN AVE         Maple: Red   \n",
       "44617   143137270           1019        E CARSON ST              Stump   \n",
       "37248  1096745811            NaN                NaN  Oak: Northern Red   \n",
       "\n",
       "             scientific_name  height  width  growth_space_length  \\\n",
       "30451  Platanus x acerifolia    22.0    9.0                 12.0   \n",
       "23032          Quercus rubra    40.0    6.0                 99.0   \n",
       "27613            Acer rubrum    25.0    7.0                  4.0   \n",
       "44617                  Stump     0.0    0.0                  2.0   \n",
       "37248          Quercus rubra     0.0    0.0                  0.0   \n",
       "\n",
       "       growth_space_width     growth_space_type  ...         neighborhood  \\\n",
       "30451                 3.0           Well or Pit  ...  Squirrel Hill North   \n",
       "23032                99.0  Open or Unrestricted  ...         East Liberty   \n",
       "27613                 3.0           Well or Pit  ...           Greenfield   \n",
       "44617                 2.0           Well or Pit  ...     South Side Flats   \n",
       "37248                 0.0  Open or Unrestricted  ...        Highland Park   \n",
       "\n",
       "       council_district  ward         tract public_works_division  \\\n",
       "30451               8.0  14.0  4.200314e+10                   3.0   \n",
       "23032               9.0  11.0  4.200311e+10                   2.0   \n",
       "27613               5.0  15.0  4.200315e+10                   3.0   \n",
       "44617               3.0  17.0  4.200317e+10                   3.0   \n",
       "37248               7.0  11.0  4.200398e+10                   2.0   \n",
       "\n",
       "       pli_division  police_zone  fire_zone   latitude  longitude  \n",
       "30451          14.0          4.0       2-18  40.442630 -79.915543  \n",
       "23032          11.0          5.0        3-8  40.468964 -79.927508  \n",
       "27613          15.0          4.0       2-12  40.420503 -79.940288  \n",
       "44617          17.0          3.0       4-24  40.428773 -79.987759  \n",
       "37248          11.0          5.0        3-9  40.482065 -79.917637  \n",
       "\n",
       "[5 rows x 58 columns]"
      ]
     },
     "execution_count": 10,
     "metadata": {},
     "output_type": "execute_result"
    }
   ],
   "source": [
    "trees.sample(5)"
   ]
  },
  {
   "cell_type": "markdown",
   "metadata": {},
   "source": [
    "# Neighborhoods listed in the dataset"
   ]
  },
  {
   "cell_type": "code",
   "execution_count": 3,
   "metadata": {},
   "outputs": [
    {
     "data": {
      "text/plain": [
       "array(['Homewood North', 'Oakwood', 'South Side Flats', 'East Allegheny',\n",
       "       'Highland Park', 'Stanton Heights', 'Sheraden', 'Chartiers City',\n",
       "       'Elliott', 'Morningside', 'Bloomfield', 'Friendship', 'Garfield',\n",
       "       'Polish Hill', 'Lower Lawrenceville', 'Central Northside',\n",
       "       'East Liberty', 'Central Lawrenceville', 'Shadyside',\n",
       "       'Allegheny Center', 'Homewood South', 'Point Breeze North',\n",
       "       'East Hills', 'Homewood West', 'Greenfield', 'Hazelwood',\n",
       "       'Squirrel Hill South', 'Marshall-Shadeland', 'Brighton Heights',\n",
       "       'North Shore', 'Overbrook', 'Knoxville', 'Brookline',\n",
       "       'South Side Slopes', 'Arlington', 'Arlington Heights', 'Carrick',\n",
       "       'Bedford Dwellings', 'Central Business District', 'Bluff',\n",
       "       'West Oakland', 'South Oakland', 'Squirrel Hill North',\n",
       "       'Point Breeze', 'Lincoln-Lemington-Belmar', 'Bon Air',\n",
       "       'Mount Washington', 'California-Kirkbride', 'New Homestead',\n",
       "       'Central Oakland', 'Crafton Heights', 'Beechview', 'Manchester',\n",
       "       'Allentown', 'Beltzhoover', 'Allegheny West', 'Chateau',\n",
       "       'Duquesne Heights', 'Perry North', 'Perry South', 'Middle Hill',\n",
       "       'Troy Hill', 'Terrace Village', 'Upper Hill', 'North Oakland',\n",
       "       'Fineview', 'Strip District', 'Windgap', 'Crawford-Roberts',\n",
       "       'Larimer', 'Lincoln Place', 'Regent Square', 'Banksville',\n",
       "       'Swisshelm Park', 'Spring Garden', 'Spring Hill-City View',\n",
       "       'Westwood', 'Fairywood', 'Summer Hill', 'West End',\n",
       "       'Upper Lawrenceville', 'Ridgemont', 'Esplen', 'East Carnegie',\n",
       "       'South Shore', 'St. Clair', 'Mt. Oliver', 'Northview Heights', nan,\n",
       "       'Glen Hazel', 'Hays'], dtype=object)"
      ]
     },
     "execution_count": 3,
     "metadata": {},
     "output_type": "execute_result"
    }
   ],
   "source": [
    "trees['neighborhood'].unique()"
   ]
  },
  {
   "cell_type": "markdown",
   "metadata": {},
   "source": [
    "# It even lists the different types of trees!"
   ]
  },
  {
   "cell_type": "code",
   "execution_count": 5,
   "metadata": {},
   "outputs": [
    {
     "data": {
      "text/plain": [
       "array(['Stump', 'Linden: Littleleaf', 'Maple: Red', 'Maple: Freeman',\n",
       "       'Maple: Norway', 'Oak: Pin', 'Dogwood: Corneliancherry',\n",
       "       'Honeylocust: Thornless', 'Oak: Northern Red',\n",
       "       'Sweetgum: American', 'Ginkgo', 'Locust: Black', 'Cherry: Black',\n",
       "       'London planetree', 'Horsechestnut', 'Catalpa: Northern',\n",
       "       'Elm: American', 'Oak: Sawtooth', 'Serviceberry: Downy',\n",
       "       'Hornbeam: European', 'Lilac: Japanese Tree',\n",
       "       'Baldcypress: Common', 'Maple: Amur', 'Linden: Silver',\n",
       "       'Oak: Swamp White', 'Pear: Callery', 'Crabapple: Flowering',\n",
       "       'Maple: Hedge', 'Maple: Miyabei', 'Maple: Paperbark',\n",
       "       'Hawthorn: spp.', 'Zelkova: Japanese', 'Cherry/Plum: spp.',\n",
       "       'Redbud: Eastern', 'Hackberry: Common', 'Serviceberry: Eastern',\n",
       "       'Dogwood: Kousa', 'Maple: spp.', 'Maple: Tatarian', 'Elm: spp.',\n",
       "       'Spruce: Colorado', 'Spruce: Norway', 'Mulberry: White',\n",
       "       'Maple: Silver', 'Serviceberry: Smooth', 'Arborvitae: Eastern',\n",
       "       'Tuliptree', 'Coffeetree: Kentucky', 'Maple: Japanese',\n",
       "       'Dogwood: Roughleaf', 'Buckeye: Yellow', 'Linden: American',\n",
       "       'Sycamore: American', 'Maple: Sugar', 'Buckeye: Ohio',\n",
       "       'Tree-of-Heaven', 'Pagodatree: Japanese', 'Vacant Site Medium',\n",
       "       'Redcedar: Eastern', 'Elm: Siberian', 'Unknown',\n",
       "       'Vacant Site Not Suitable', 'Goldenraintree', 'Elm: Slippery',\n",
       "       'Ash: spp.', 'Spruce: White', 'Vacant Site Small', 'Ash: Green',\n",
       "       'Filbert: Turkish', 'Dogwood: Flowering', 'Birch: River',\n",
       "       'Hornbeam: American', 'Yew: spp.', 'Magnolia: Sweetbay',\n",
       "       'Pear: Common', 'Maple: Black', 'Cherry: Sweet', 'Willow: Weeping',\n",
       "       'Osage-orange', 'Oak: White', 'Magnolia: Saucer', 'Willow: Black',\n",
       "       'Ash: White', 'Pine: Eastern White', 'Amur Maackia',\n",
       "       'Hemlock: Eastern', 'Hickory: Bitternut', 'Amur Corktree',\n",
       "       'Honeylocust', 'Mulberry: Red', 'Butternut', 'Boxelder',\n",
       "       'Holly: American', 'Birch: Paper', 'Dawn Redwood', 'Plum: Cherry',\n",
       "       'Cherry: Japanese Flowering', 'Rose-of-Sharon', 'Oak: Black',\n",
       "       'Walnut: Black', 'Oak: English', 'Pine: Scotch', 'Apple: Paradise',\n",
       "       'Magnolia: Star', 'Cherry: Pin', 'Witchhazel: Common',\n",
       "       'Apple: Common', 'Mountainash: American', 'Persian Parrotia',\n",
       "       'Maple: Sycamore', 'Pine: Austrian', 'Elm: Lacebark',\n",
       "       'Maple: Trident', 'Oak: Chinkapin', 'Katsuratree',\n",
       "       'Hophornbeam: American', 'Pear: spp.', 'Oak: Scarlet',\n",
       "       'Hardy Rubbertree', 'Elderberry: Common', 'Lilac: Common',\n",
       "       'Oak: Bur', 'Tupelo: Black', 'Maple: Striped',\n",
       "       'Cottonwood: Eastern', 'Hawthorn: Green', 'Yellowwood: American',\n",
       "       'Vacant Site Large', 'Oak: spp.', 'Mimosa', 'Magnolia: Southern',\n",
       "       'Douglas-fir', 'Falsecypress: Sawara', 'Beech: European',\n",
       "       'Russian-olive', 'Spruce: Engelmann', 'Peach: Common',\n",
       "       'Magnolia: Cucumbertree', 'Willow: Hankow', 'Redbud: Southwestern',\n",
       "       'Birch: European White', 'Cherry: Higan', 'Chokecherry: Common',\n",
       "       'Willow: Pussy', 'Smoketree: Common', 'Birch: Gray',\n",
       "       'Chestnut: Chinese', 'Mountainash: European', 'Oak: Water',\n",
       "       'Serviceberry: Western', 'Pine: Virginia', 'Beech: American',\n",
       "       'Sumac: Smooth', 'Buckeye: Red', 'Sassafras',\n",
       "       'Falsecypress: Nootka', 'Hickory: Pignut', 'Buckthorn: Common',\n",
       "       'Pawpaw: Common', 'Pine: Mugo', 'Cedar: Atlas',\n",
       "       'Silverbell: Mountain', 'Smoketree: American', 'Poplar: Lombardy',\n",
       "       'Cherry: Sargent', 'Plum: Canada', 'Cherry: Yoshino',\n",
       "       'Magnolia: Umbrella', 'Pecan', 'Fir: White', 'Wisteria: spp.',\n",
       "       'Larch: American', 'Pine: Red', 'Fir: Balsam', 'Pine: Lacebark',\n",
       "       nan, 'Filbert: American', 'Walnut: English', 'Oak: Willow',\n",
       "       'Sumac: Staghorn', 'Whitecedar: Atlantic', 'Snowbell: American',\n",
       "       'Plum: American', 'Spruce: Alberta White', 'Snowbell: Japanese',\n",
       "       'Poplar: White', 'Filbert: Beaked', 'Viburnum: Blackhaw',\n",
       "       'Elm: Hybrid', 'Fringetree: White', 'Goldenchain Tree',\n",
       "       'Fringetree: Chinese', 'Non-sufficient space',\n",
       "       'Serviceberry: spp.', 'Barberry: Japanese', 'Boxwood: spp.',\n",
       "       'Birch: Yellow', 'Pine: White Japanese', 'Fir: Fraser',\n",
       "       'Oak: Shingle', 'Oak: Turkey', 'Poplar: Carolina',\n",
       "       'Spruce: Serbian', 'Pine: Limber', 'Dogwood: Pagoda',\n",
       "       'Cryptomeria: Japanese', 'Oak: Chestnut', 'Linden: Silver Pendant',\n",
       "       'Willow: spp.', 'Magnolia: spp.', 'Maple: Shantung', 'Sequoia',\n",
       "       'Hickory: Mockernut', 'Maple: Truncatum x', 'Persimmon: Common',\n",
       "       'Chestnut: American', 'Spruce: spp.', 'Pine: Ponderosa',\n",
       "       'Buckeye spp.', 'Ash: Black', 'Horsechestnut: Red',\n",
       "       'Silverbell: Carolina', 'Magnolia: Bigleaf', 'Evodia: Korean',\n",
       "       'Falsecypress: Lawson', 'Fig: Common', 'Juniper: spp.',\n",
       "       'Larch: Golden', 'Unknown Shrub', 'Dogwood: spp.', 'Elm: Winged',\n",
       "       'Crabapple: Donald Wyman Flowering', 'Pine: spp.',\n",
       "       'Mulberry: Paper', 'Oak, Hybrid'], dtype=object)"
      ]
     },
     "execution_count": 5,
     "metadata": {},
     "output_type": "execute_result"
    }
   ],
   "source": [
    "trees['common_name'].unique()"
   ]
  },
  {
   "cell_type": "markdown",
   "metadata": {},
   "source": [
    "# Here are the top 10 neighborhoods with the most trees"
   ]
  },
  {
   "cell_type": "code",
   "execution_count": 9,
   "metadata": {},
   "outputs": [
    {
     "name": "stdout",
     "output_type": "stream",
     "text": [
      "Neighborhood                Trees\n"
     ]
    },
    {
     "data": {
      "text/plain": [
       "Squirrel Hill South          5073\n",
       "Highland Park                2941\n",
       "Squirrel Hill North          2083\n",
       "South Side Flats             1693\n",
       "Shadyside                    1558\n",
       "Bloomfield                   1436\n",
       "East Liberty                 1366\n",
       "Point Breeze                 1316\n",
       "Perry North                  1007\n",
       "Central Business District    1002\n",
       "Name: neighborhood, dtype: int64"
      ]
     },
     "execution_count": 9,
     "metadata": {},
     "output_type": "execute_result"
    }
   ],
   "source": [
    "print(\"Neighborhood                Trees\")\n",
    "trees['neighborhood'].value_counts().head(10)"
   ]
  },
  {
   "cell_type": "markdown",
   "metadata": {},
   "source": [
    "# Property value benefits from trees in each neighborhood ($)"
   ]
  },
  {
   "cell_type": "code",
   "execution_count": 19,
   "metadata": {},
   "outputs": [
    {
     "name": "stdout",
     "output_type": "stream",
     "text": [
      "{'Oakwood': 4241.806053176864, 'South Side Flats': 67263.96929603667, 'East Allegheny': 17539.848708590813, 'Highland Park': 162721.29348721742, 'Sheraden': 13600.32316204017, 'Chartiers City': 1679.8600321367053, 'Elliott': 6914.383245632302, 'Stanton Heights': 42892.07276280259, 'Morningside': 16382.20654874849, 'Bloomfield': 57972.65867711192, 'Friendship': 12482.754537828056, 'Garfield': 28141.194616009885, 'Polish Hill': 8648.95906823373, 'Lower Lawrenceville': 23857.918025637475, 'Central Northside': 28539.45063327815, 'East Liberty': 53386.019590411735, 'Central Lawrenceville': 23887.06839059347, 'Shadyside': 75042.75321652676, 'Allegheny Center': 57963.12600066445, 'Homewood South': 15106.705934652458, 'Homewood North': 14421.148051155678, 'Point Breeze North': 23710.877049879142, 'East Hills': 24808.560318597403, 'Homewood West': 3898.8763047937905, 'Greenfield': 28510.616513886856, 'Hazelwood': 26991.782650084497, 'Squirrel Hill South': 286319.3423107425, 'Marshall-Shadeland': 22625.20955486619, 'Brighton Heights': 40260.69697059817, 'North Shore': 26266.158172412677, 'Overbrook': 12472.562578296396, 'Knoxville': 22433.284423222147, 'Brookline': 40499.37285723642, 'South Side Slopes': 6655.4228006782305, 'Arlington': 2666.4227880056587, 'Arlington Heights': 330.2892044606, 'Carrick': 30268.62198252195, 'Bedford Dwellings': 5980.743688211005, 'Central Business District': 53902.80625156629, 'Bluff': 9548.29169264325, 'West Oakland': 3312.2106399826603, 'South Oakland': 9322.45487168732, 'Squirrel Hill North': 118348.74252427471, 'Point Breeze': 66381.1960658057, 'Lincoln-Lemington-Belmar': 30640.085437379435, 'Bon Air': 3500.2496353138386, 'Mount Washington': 30471.0990574683, 'California-Kirkbride': 3955.38093703376, 'New Homestead': 9169.01557567779, 'Central Oakland': 19594.096005928433, 'Crafton Heights': 16082.798170451455, 'Beechview': 25044.91614600626, 'Manchester': 30859.035306028865, 'Allentown': 3318.198877991425, 'Beltzhoover': 5202.680792714162, 'Allegheny West': 22959.330812397275, 'Chateau': 15580.62526269266, 'Duquesne Heights': 3518.666898155045, 'Perry North': 56286.033724284905, 'Perry South': 18312.986458648873, 'Middle Hill': 12475.733622118974, 'Troy Hill': 5455.262221728363, 'Terrace Village': 12810.111110714482, 'Upper Hill': 6721.646980432498, 'North Oakland': 36727.2126580649, 'Fineview': 5396.0834674884, 'Strip District': 18365.592368518188, 'Windgap': 5637.833227521683, 'Crawford-Roberts': 24581.31439743709, 'Larimer': 13232.248159171493, 'Lincoln Place': 12434.315812734887, 'Regent Square': 23346.352456197692, 'Banksville': 21702.22606649831, 'Swisshelm Park': 12598.128026323873, 'Spring Garden': 2305.3787202772846, 'Spring Hill-City View': 4446.275733111702, 'Westwood': 12383.676819629676, 'Fairywood': 2223.8674687326, 'Summer Hill': 4693.987026337498, 'West End': 5434.736233791099, 'Upper Lawrenceville': 19677.196015850746, 'Ridgemont': 1457.5446867778899, 'Esplen': 100.60061292030001, 'East Carnegie': 281.4131844799, 'South Shore': 22.5731852302, 'St. Clair': 997.6956524256001, 'Mt. Oliver': 640.8402047673001, 'Northview Heights': 430.85674691580004, nan: 361.10583414510006, 'Glen Hazel': 64.43393591719999, 'Hays': 97.391293044}\n"
     ]
    }
   ],
   "source": [
    "import math\n",
    "dict = {}\n",
    "for index, row in trees.iterrows():\n",
    "    if row['neighborhood'] in dict.keys():\n",
    "        if math.isnan(row['property_value_benefits_dollarvalue']) == False:\n",
    "            dict[row['neighborhood']] += row['property_value_benefits_dollarvalue']\n",
    "    else:\n",
    "        if math.isnan(row['property_value_benefits_dollarvalue']) == False:\n",
    "            dict[row['neighborhood']] = row['property_value_benefits_dollarvalue']\n",
    "        \n",
    "print(dict)"
   ]
  },
  {
   "cell_type": "code",
   "execution_count": null,
   "metadata": {},
   "outputs": [],
   "source": []
  }
 ],
 "metadata": {
  "kernelspec": {
   "display_name": "Python 3",
   "language": "python",
   "name": "python3"
  },
  "language_info": {
   "codemirror_mode": {
    "name": "ipython",
    "version": 3
   },
   "file_extension": ".py",
   "mimetype": "text/x-python",
   "name": "python",
   "nbconvert_exporter": "python",
   "pygments_lexer": "ipython3",
   "version": "3.8.3"
  }
 },
 "nbformat": 4,
 "nbformat_minor": 4
}
